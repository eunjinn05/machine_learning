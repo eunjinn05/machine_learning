{
 "cells": [
  {
   "cell_type": "markdown",
   "id": "56362ee5-a83f-4d3a-b0a1-1c447fd3fd39",
   "metadata": {},
   "source": [
    "### Iris Data load"
   ]
  },
  {
   "cell_type": "code",
   "execution_count": 2,
   "id": "f6fb5466-fa63-4b6c-a46a-acd98e59d469",
   "metadata": {},
   "outputs": [
    {
     "data": {
      "text/plain": [
       "array(['setosa', 'versicolor', 'virginica'], dtype='<U10')"
      ]
     },
     "execution_count": 2,
     "metadata": {},
     "output_type": "execute_result"
    }
   ],
   "source": [
    "from sklearn.datasets import load_iris\n",
    "\n",
    "iris = load_iris()  # type Bunch = Dictionaray\n",
    "\n",
    "iris['data']  # feature\n",
    "\n",
    "iris['feature_names'] # feature의 key name\n",
    "\n",
    "iris['target_names'] # target의 key name"
   ]
  },
  {
   "cell_type": "code",
   "execution_count": 3,
   "id": "2dd98917-adee-40ef-af74-d4bf5452b73e",
   "metadata": {},
   "outputs": [
    {
     "data": {
      "text/html": [
       "<div>\n",
       "<style scoped>\n",
       "    .dataframe tbody tr th:only-of-type {\n",
       "        vertical-align: middle;\n",
       "    }\n",
       "\n",
       "    .dataframe tbody tr th {\n",
       "        vertical-align: top;\n",
       "    }\n",
       "\n",
       "    .dataframe thead th {\n",
       "        text-align: right;\n",
       "    }\n",
       "</style>\n",
       "<table border=\"1\" class=\"dataframe\">\n",
       "  <thead>\n",
       "    <tr style=\"text-align: right;\">\n",
       "      <th></th>\n",
       "      <th>sepal length (cm)</th>\n",
       "      <th>sepal width (cm)</th>\n",
       "      <th>petal length (cm)</th>\n",
       "      <th>petal width (cm)</th>\n",
       "    </tr>\n",
       "  </thead>\n",
       "  <tbody>\n",
       "    <tr>\n",
       "      <th>0</th>\n",
       "      <td>5.1</td>\n",
       "      <td>3.5</td>\n",
       "      <td>1.4</td>\n",
       "      <td>0.2</td>\n",
       "    </tr>\n",
       "    <tr>\n",
       "      <th>1</th>\n",
       "      <td>4.9</td>\n",
       "      <td>3.0</td>\n",
       "      <td>1.4</td>\n",
       "      <td>0.2</td>\n",
       "    </tr>\n",
       "    <tr>\n",
       "      <th>2</th>\n",
       "      <td>4.7</td>\n",
       "      <td>3.2</td>\n",
       "      <td>1.3</td>\n",
       "      <td>0.2</td>\n",
       "    </tr>\n",
       "    <tr>\n",
       "      <th>3</th>\n",
       "      <td>4.6</td>\n",
       "      <td>3.1</td>\n",
       "      <td>1.5</td>\n",
       "      <td>0.2</td>\n",
       "    </tr>\n",
       "    <tr>\n",
       "      <th>4</th>\n",
       "      <td>5.0</td>\n",
       "      <td>3.6</td>\n",
       "      <td>1.4</td>\n",
       "      <td>0.2</td>\n",
       "    </tr>\n",
       "    <tr>\n",
       "      <th>...</th>\n",
       "      <td>...</td>\n",
       "      <td>...</td>\n",
       "      <td>...</td>\n",
       "      <td>...</td>\n",
       "    </tr>\n",
       "    <tr>\n",
       "      <th>145</th>\n",
       "      <td>6.7</td>\n",
       "      <td>3.0</td>\n",
       "      <td>5.2</td>\n",
       "      <td>2.3</td>\n",
       "    </tr>\n",
       "    <tr>\n",
       "      <th>146</th>\n",
       "      <td>6.3</td>\n",
       "      <td>2.5</td>\n",
       "      <td>5.0</td>\n",
       "      <td>1.9</td>\n",
       "    </tr>\n",
       "    <tr>\n",
       "      <th>147</th>\n",
       "      <td>6.5</td>\n",
       "      <td>3.0</td>\n",
       "      <td>5.2</td>\n",
       "      <td>2.0</td>\n",
       "    </tr>\n",
       "    <tr>\n",
       "      <th>148</th>\n",
       "      <td>6.2</td>\n",
       "      <td>3.4</td>\n",
       "      <td>5.4</td>\n",
       "      <td>2.3</td>\n",
       "    </tr>\n",
       "    <tr>\n",
       "      <th>149</th>\n",
       "      <td>5.9</td>\n",
       "      <td>3.0</td>\n",
       "      <td>5.1</td>\n",
       "      <td>1.8</td>\n",
       "    </tr>\n",
       "  </tbody>\n",
       "</table>\n",
       "<p>150 rows × 4 columns</p>\n",
       "</div>"
      ],
      "text/plain": [
       "     sepal length (cm)  sepal width (cm)  petal length (cm)  petal width (cm)\n",
       "0                  5.1               3.5                1.4               0.2\n",
       "1                  4.9               3.0                1.4               0.2\n",
       "2                  4.7               3.2                1.3               0.2\n",
       "3                  4.6               3.1                1.5               0.2\n",
       "4                  5.0               3.6                1.4               0.2\n",
       "..                 ...               ...                ...               ...\n",
       "145                6.7               3.0                5.2               2.3\n",
       "146                6.3               2.5                5.0               1.9\n",
       "147                6.5               3.0                5.2               2.0\n",
       "148                6.2               3.4                5.4               2.3\n",
       "149                5.9               3.0                5.1               1.8\n",
       "\n",
       "[150 rows x 4 columns]"
      ]
     },
     "execution_count": 3,
     "metadata": {},
     "output_type": "execute_result"
    }
   ],
   "source": [
    "import pandas as pd\n",
    "df = pd.DataFrame(iris['data'], columns=iris['feature_names']) # dataframe화하여 보기\n",
    "\n",
    "df"
   ]
  },
  {
   "cell_type": "markdown",
   "id": "f6fadf08-5bc7-405a-b619-1e086c1d9c86",
   "metadata": {},
   "source": [
    "### Just do fit & predict"
   ]
  },
  {
   "cell_type": "code",
   "execution_count": 4,
   "id": "f5838080-6766-4a60-8287-7f6d687b6820",
   "metadata": {},
   "outputs": [
    {
     "name": "stdout",
     "output_type": "stream",
     "text": [
      "['setosa' 'virginica' 'versicolor']\n"
     ]
    }
   ],
   "source": [
    "# import\n",
    "from sklearn.tree import DecisionTreeClassifier\n",
    "import numpy as np\n",
    "\n",
    "# 모델 생성\n",
    "model = DecisionTreeClassifier()\n",
    "# 모델 학습\n",
    "model.fit(iris['data'], iris['target'])  # fit(입력, 출력)\n",
    "# 모델 예측\n",
    "new_data = np.array(\n",
    "    [\n",
    "        [5, 3.5, 1.4, 0.25],\n",
    "        [2, 2.2, 5.3, 2.2],\n",
    "        [1.2, 5, 3.3, 7.2]\n",
    "    ]\n",
    ")\n",
    "pred = model.predict(new_data)\n",
    "print(iris['target_names'][pred])"
   ]
  },
  {
   "cell_type": "markdown",
   "id": "2231fdcc-8570-4f10-b635-2065290f5537",
   "metadata": {},
   "source": [
    "### Split Train, Validation, Test set"
   ]
  },
  {
   "cell_type": "code",
   "execution_count": 5,
   "id": "0e9f9ea1-cd2d-4436-a9d9-0bf8720731e5",
   "metadata": {},
   "outputs": [
    {
     "data": {
      "text/plain": [
       "1.0"
      ]
     },
     "execution_count": 5,
     "metadata": {},
     "output_type": "execute_result"
    }
   ],
   "source": [
    "# Train, Validation, Test set 분리\n",
    "from sklearn.model_selection import train_test_split\n",
    "from sklearn.metrics import accuracy_score\n",
    "\n",
    "X_train, X_test, y_train, y_test = train_test_split(\n",
    "    iris['data'],\n",
    "    iris['target'],\n",
    "    test_size = 0.2,  # test 나눌 비율 test : 0.2 / train : 0.8\n",
    "    stratify = iris['target']\n",
    ")\n",
    "model2 = DecisionTreeClassifier()\n",
    "model2.fit(X_train, y_train)\n",
    "\n",
    "pred_test = model2.predict(X_test)\n",
    "\n",
    "#정답, 추정결과 넣어서 평가\n",
    "result = accuracy_score(y_test, pred_test)\n",
    "result"
   ]
  },
  {
   "cell_type": "code",
   "execution_count": 6,
   "id": "79d8b088-23a9-48d2-b4b0-e82c9c8c85b5",
   "metadata": {},
   "outputs": [
    {
     "name": "stdout",
     "output_type": "stream",
     "text": [
      "Train Accuracy : 0.9916666666666667\n",
      "Test Accuracy : 1.0\n"
     ]
    }
   ],
   "source": [
    "# 모델 생성, 평가\n",
    "from sklearn.tree import DecisionTreeClassifier\n",
    "from sklearn.metrics import accuracy_score\n",
    "\n",
    "# 모델 생성\n",
    "max_depth = 4\n",
    "tree = DecisionTreeClassifier(max_depth=max_depth, random_state=0)\n",
    "\n",
    "# 모델 학습\n",
    "tree.fit(X_train, y_train)\n",
    "\n",
    "# 모델 예측\n",
    "pred_train = tree.predict(X_train)\n",
    "pred_test = tree.predict(X_test)\n",
    "\n",
    "# 모델 평가\n",
    "train_acc = accuracy_score(y_train, pred_train)\n",
    "test_acc  = accuracy_score(y_test, pred_test)\n",
    "\n",
    "print(f\"Train Accuracy : {train_acc}\")\n",
    "print(f\"Test Accuracy : {test_acc}\")\n"
   ]
  },
  {
   "cell_type": "markdown",
   "id": "13800515-0a45-4d71-a219-d036dfff80f9",
   "metadata": {},
   "source": [
    "### KFold\n",
    "\n",
    "KFold : 지정된 개수만큼 분할하며 회귀 문제일 때 사용\n",
    "\n",
    "***KFold 활용하여 보스턴 집 값 예측하기***\n",
    "\n",
    "- CRIM : 지역별 범죄 발생률\n",
    "- ZN : 25,000 평방피트를 초과하는 거주지역의 비율\n",
    "- INDUS: 비상업지역 토지의 비율\n",
    "- CHAS : 찰스강에 대한 더미변수(강의 경계에 위치한 경우는 1, 아니면 0)\n",
    "- NOX : 일산화질소 농도\n",
    "- RM : 주택 1가구당 평균 방의 개수\n",
    "- AGE : 1940년 이전에 건축된 소유주택의 비율\n",
    "- DIS : 5개의 보스턴 고용센터까지의 접근성 지수\n",
    "- RAD : 고속도로까지의 접근성 지수\n",
    "- TAX : 10,000 달러 당 재산세율\n",
    "- PTRATIO : 지역별 교사 한명당 학생 비율\n",
    "- B : 지역의 흑인 거주 비율\n",
    "- LSTAT: 하위계층의 비율(%)>\n",
    "- MEDV : Target. 지역의 주택가격 중앙값 (단위: $1,000)"
   ]
  },
  {
   "cell_type": "code",
   "execution_count": 7,
   "id": "de770b02-c436-4a47-a400-aa275f05d50a",
   "metadata": {},
   "outputs": [
    {
     "data": {
      "text/html": [
       "<div>\n",
       "<style scoped>\n",
       "    .dataframe tbody tr th:only-of-type {\n",
       "        vertical-align: middle;\n",
       "    }\n",
       "\n",
       "    .dataframe tbody tr th {\n",
       "        vertical-align: top;\n",
       "    }\n",
       "\n",
       "    .dataframe thead th {\n",
       "        text-align: right;\n",
       "    }\n",
       "</style>\n",
       "<table border=\"1\" class=\"dataframe\">\n",
       "  <thead>\n",
       "    <tr style=\"text-align: right;\">\n",
       "      <th></th>\n",
       "      <th>CRIM</th>\n",
       "      <th>ZN</th>\n",
       "      <th>INDUS</th>\n",
       "      <th>CHAS</th>\n",
       "      <th>NOX</th>\n",
       "      <th>RM</th>\n",
       "      <th>AGE</th>\n",
       "      <th>DIS</th>\n",
       "      <th>RAD</th>\n",
       "      <th>TAX</th>\n",
       "      <th>PTRATIO</th>\n",
       "      <th>B</th>\n",
       "      <th>LSTAT</th>\n",
       "      <th>MEDV</th>\n",
       "    </tr>\n",
       "  </thead>\n",
       "  <tbody>\n",
       "    <tr>\n",
       "      <th>0</th>\n",
       "      <td>0.00632</td>\n",
       "      <td>18.0</td>\n",
       "      <td>2.31</td>\n",
       "      <td>0.0</td>\n",
       "      <td>0.538</td>\n",
       "      <td>6.575</td>\n",
       "      <td>65.2</td>\n",
       "      <td>4.0900</td>\n",
       "      <td>1.0</td>\n",
       "      <td>296.0</td>\n",
       "      <td>15.3</td>\n",
       "      <td>396.90</td>\n",
       "      <td>4.98</td>\n",
       "      <td>24.0</td>\n",
       "    </tr>\n",
       "    <tr>\n",
       "      <th>1</th>\n",
       "      <td>0.02731</td>\n",
       "      <td>0.0</td>\n",
       "      <td>7.07</td>\n",
       "      <td>0.0</td>\n",
       "      <td>0.469</td>\n",
       "      <td>6.421</td>\n",
       "      <td>78.9</td>\n",
       "      <td>4.9671</td>\n",
       "      <td>2.0</td>\n",
       "      <td>242.0</td>\n",
       "      <td>17.8</td>\n",
       "      <td>396.90</td>\n",
       "      <td>9.14</td>\n",
       "      <td>21.6</td>\n",
       "    </tr>\n",
       "    <tr>\n",
       "      <th>2</th>\n",
       "      <td>0.02729</td>\n",
       "      <td>0.0</td>\n",
       "      <td>7.07</td>\n",
       "      <td>0.0</td>\n",
       "      <td>0.469</td>\n",
       "      <td>7.185</td>\n",
       "      <td>61.1</td>\n",
       "      <td>4.9671</td>\n",
       "      <td>2.0</td>\n",
       "      <td>242.0</td>\n",
       "      <td>17.8</td>\n",
       "      <td>392.83</td>\n",
       "      <td>4.03</td>\n",
       "      <td>34.7</td>\n",
       "    </tr>\n",
       "    <tr>\n",
       "      <th>3</th>\n",
       "      <td>0.03237</td>\n",
       "      <td>0.0</td>\n",
       "      <td>2.18</td>\n",
       "      <td>0.0</td>\n",
       "      <td>0.458</td>\n",
       "      <td>6.998</td>\n",
       "      <td>45.8</td>\n",
       "      <td>6.0622</td>\n",
       "      <td>3.0</td>\n",
       "      <td>222.0</td>\n",
       "      <td>18.7</td>\n",
       "      <td>394.63</td>\n",
       "      <td>2.94</td>\n",
       "      <td>33.4</td>\n",
       "    </tr>\n",
       "    <tr>\n",
       "      <th>4</th>\n",
       "      <td>0.06905</td>\n",
       "      <td>0.0</td>\n",
       "      <td>2.18</td>\n",
       "      <td>0.0</td>\n",
       "      <td>0.458</td>\n",
       "      <td>7.147</td>\n",
       "      <td>54.2</td>\n",
       "      <td>6.0622</td>\n",
       "      <td>3.0</td>\n",
       "      <td>222.0</td>\n",
       "      <td>18.7</td>\n",
       "      <td>396.90</td>\n",
       "      <td>5.33</td>\n",
       "      <td>36.2</td>\n",
       "    </tr>\n",
       "    <tr>\n",
       "      <th>...</th>\n",
       "      <td>...</td>\n",
       "      <td>...</td>\n",
       "      <td>...</td>\n",
       "      <td>...</td>\n",
       "      <td>...</td>\n",
       "      <td>...</td>\n",
       "      <td>...</td>\n",
       "      <td>...</td>\n",
       "      <td>...</td>\n",
       "      <td>...</td>\n",
       "      <td>...</td>\n",
       "      <td>...</td>\n",
       "      <td>...</td>\n",
       "      <td>...</td>\n",
       "    </tr>\n",
       "    <tr>\n",
       "      <th>501</th>\n",
       "      <td>0.06263</td>\n",
       "      <td>0.0</td>\n",
       "      <td>11.93</td>\n",
       "      <td>0.0</td>\n",
       "      <td>0.573</td>\n",
       "      <td>6.593</td>\n",
       "      <td>69.1</td>\n",
       "      <td>2.4786</td>\n",
       "      <td>1.0</td>\n",
       "      <td>273.0</td>\n",
       "      <td>21.0</td>\n",
       "      <td>391.99</td>\n",
       "      <td>9.67</td>\n",
       "      <td>22.4</td>\n",
       "    </tr>\n",
       "    <tr>\n",
       "      <th>502</th>\n",
       "      <td>0.04527</td>\n",
       "      <td>0.0</td>\n",
       "      <td>11.93</td>\n",
       "      <td>0.0</td>\n",
       "      <td>0.573</td>\n",
       "      <td>6.120</td>\n",
       "      <td>76.7</td>\n",
       "      <td>2.2875</td>\n",
       "      <td>1.0</td>\n",
       "      <td>273.0</td>\n",
       "      <td>21.0</td>\n",
       "      <td>396.90</td>\n",
       "      <td>9.08</td>\n",
       "      <td>20.6</td>\n",
       "    </tr>\n",
       "    <tr>\n",
       "      <th>503</th>\n",
       "      <td>0.06076</td>\n",
       "      <td>0.0</td>\n",
       "      <td>11.93</td>\n",
       "      <td>0.0</td>\n",
       "      <td>0.573</td>\n",
       "      <td>6.976</td>\n",
       "      <td>91.0</td>\n",
       "      <td>2.1675</td>\n",
       "      <td>1.0</td>\n",
       "      <td>273.0</td>\n",
       "      <td>21.0</td>\n",
       "      <td>396.90</td>\n",
       "      <td>5.64</td>\n",
       "      <td>23.9</td>\n",
       "    </tr>\n",
       "    <tr>\n",
       "      <th>504</th>\n",
       "      <td>0.10959</td>\n",
       "      <td>0.0</td>\n",
       "      <td>11.93</td>\n",
       "      <td>0.0</td>\n",
       "      <td>0.573</td>\n",
       "      <td>6.794</td>\n",
       "      <td>89.3</td>\n",
       "      <td>2.3889</td>\n",
       "      <td>1.0</td>\n",
       "      <td>273.0</td>\n",
       "      <td>21.0</td>\n",
       "      <td>393.45</td>\n",
       "      <td>6.48</td>\n",
       "      <td>22.0</td>\n",
       "    </tr>\n",
       "    <tr>\n",
       "      <th>505</th>\n",
       "      <td>0.04741</td>\n",
       "      <td>0.0</td>\n",
       "      <td>11.93</td>\n",
       "      <td>0.0</td>\n",
       "      <td>0.573</td>\n",
       "      <td>6.030</td>\n",
       "      <td>80.8</td>\n",
       "      <td>2.5050</td>\n",
       "      <td>1.0</td>\n",
       "      <td>273.0</td>\n",
       "      <td>21.0</td>\n",
       "      <td>396.90</td>\n",
       "      <td>7.88</td>\n",
       "      <td>11.9</td>\n",
       "    </tr>\n",
       "  </tbody>\n",
       "</table>\n",
       "<p>506 rows × 14 columns</p>\n",
       "</div>"
      ],
      "text/plain": [
       "        CRIM    ZN  INDUS  CHAS    NOX     RM   AGE     DIS  RAD    TAX  \\\n",
       "0    0.00632  18.0   2.31   0.0  0.538  6.575  65.2  4.0900  1.0  296.0   \n",
       "1    0.02731   0.0   7.07   0.0  0.469  6.421  78.9  4.9671  2.0  242.0   \n",
       "2    0.02729   0.0   7.07   0.0  0.469  7.185  61.1  4.9671  2.0  242.0   \n",
       "3    0.03237   0.0   2.18   0.0  0.458  6.998  45.8  6.0622  3.0  222.0   \n",
       "4    0.06905   0.0   2.18   0.0  0.458  7.147  54.2  6.0622  3.0  222.0   \n",
       "..       ...   ...    ...   ...    ...    ...   ...     ...  ...    ...   \n",
       "501  0.06263   0.0  11.93   0.0  0.573  6.593  69.1  2.4786  1.0  273.0   \n",
       "502  0.04527   0.0  11.93   0.0  0.573  6.120  76.7  2.2875  1.0  273.0   \n",
       "503  0.06076   0.0  11.93   0.0  0.573  6.976  91.0  2.1675  1.0  273.0   \n",
       "504  0.10959   0.0  11.93   0.0  0.573  6.794  89.3  2.3889  1.0  273.0   \n",
       "505  0.04741   0.0  11.93   0.0  0.573  6.030  80.8  2.5050  1.0  273.0   \n",
       "\n",
       "     PTRATIO       B  LSTAT  MEDV  \n",
       "0       15.3  396.90   4.98  24.0  \n",
       "1       17.8  396.90   9.14  21.6  \n",
       "2       17.8  392.83   4.03  34.7  \n",
       "3       18.7  394.63   2.94  33.4  \n",
       "4       18.7  396.90   5.33  36.2  \n",
       "..       ...     ...    ...   ...  \n",
       "501     21.0  391.99   9.67  22.4  \n",
       "502     21.0  396.90   9.08  20.6  \n",
       "503     21.0  396.90   5.64  23.9  \n",
       "504     21.0  393.45   6.48  22.0  \n",
       "505     21.0  396.90   7.88  11.9  \n",
       "\n",
       "[506 rows x 14 columns]"
      ]
     },
     "execution_count": 7,
     "metadata": {},
     "output_type": "execute_result"
    }
   ],
   "source": [
    "import pandas as pd\n",
    "\n",
    "df = pd.read_csv('data/boston_housing.csv')\n",
    "df"
   ]
  },
  {
   "cell_type": "code",
   "execution_count": 8,
   "id": "7eb11dd2-e873-4f37-a2ec-3ca52ca52482",
   "metadata": {},
   "outputs": [],
   "source": [
    "y = df['MEDV'].values # 정답 데이터 분류\n",
    "X = df.drop(columns=\"MEDV\").values # 정답 데이터 삭제 후 값 추출"
   ]
  },
  {
   "cell_type": "code",
   "execution_count": 9,
   "id": "37502cfb-e423-40a5-aeb1-9a0c6eab81e2",
   "metadata": {},
   "outputs": [
    {
     "data": {
      "text/plain": [
       "[19.362900914277557,\n",
       " 25.77734700471067,\n",
       " 58.61675649857523,\n",
       " 63.188138857997195,\n",
       " 41.21802825033429]"
      ]
     },
     "execution_count": 9,
     "metadata": {},
     "output_type": "execute_result"
    }
   ],
   "source": [
    "from sklearn.model_selection import KFold\n",
    "from sklearn.tree import DecisionTreeRegressor\n",
    "from sklearn.metrics import mean_squared_error\n",
    "import numpy as np\n",
    "\n",
    "mse_list = []\n",
    "kfold = KFold(n_splits=5) # 객체 5개로 나눔\n",
    "gen = kfold.split(X) # idx 제공\n",
    "\n",
    "for train_idx, test_idx in gen :\n",
    "    X_train, y_train = X[train_idx], y[train_idx]\n",
    "    X_test,  y_test = X[test_idx], y[test_idx]\n",
    "\n",
    "    # 모델 생성\n",
    "    model = DecisionTreeRegressor(max_depth=2, random_state=0)\n",
    "    # 학습\n",
    "    model.fit(X_train, y_train)\n",
    "    # 검증\n",
    "    pred = model.predict(X_test)\n",
    "    mse = mean_squared_error(y_test, pred)\n",
    "    mse_list.append(mse)\n",
    "mse_list"
   ]
  },
  {
   "cell_type": "code",
   "execution_count": 10,
   "id": "d788d30d-4611-459f-9720-06f489ebda00",
   "metadata": {},
   "outputs": [
    {
     "data": {
      "text/plain": [
       "(41.63263430517899, 6.452335569790136)"
      ]
     },
     "execution_count": 10,
     "metadata": {},
     "output_type": "execute_result"
    }
   ],
   "source": [
    "np.mean(mse_list), np.sqrt(np.mean(mse_list))"
   ]
  },
  {
   "cell_type": "markdown",
   "id": "03356ddc-48a6-4980-b76c-1ceee9bd02c5",
   "metadata": {},
   "source": [
    "### StratifiedKFold\n",
    "\n",
    "StratifiedKFold : 분류 문제일때 사용"
   ]
  },
  {
   "cell_type": "code",
   "execution_count": 11,
   "id": "fd6def7e-2e71-4084-b053-00cc6a443cc0",
   "metadata": {},
   "outputs": [
    {
     "data": {
      "text/plain": [
       "[0.9736842105263158, 0.9473684210526315, 0.9459459459459459, 0.972972972972973]"
      ]
     },
     "execution_count": 11,
     "metadata": {},
     "output_type": "execute_result"
    }
   ],
   "source": [
    "from sklearn.datasets import load_iris\n",
    "from sklearn.model_selection import StratifiedKFold, KFold\n",
    "from sklearn.tree import DecisionTreeClassifier\n",
    "from sklearn.metrics import accuracy_score\n",
    "\n",
    "# 데이터 로드\n",
    "X, y = load_iris(return_X_y=True)\n",
    "\n",
    "# 4개로 나누기\n",
    "sf = StratifiedKFold(n_splits=4)\n",
    "# generator 생성\n",
    "s_gen = sf.split(X, y)\n",
    "\n",
    "val_result = []\n",
    "for train_idx, test_idx in s_gen :\n",
    "    X_train, y_train = X[train_idx], y[train_idx]\n",
    "    X_test, y_test = X[test_idx], y[test_idx]\n",
    "\n",
    "    # 모델 생성\n",
    "    max_depth = 3\n",
    "    model = DecisionTreeClassifier(max_depth=max_depth, random_state=0)\n",
    "    # 모델 학습\n",
    "    model.fit(X_train, y_train)\n",
    "    # 모델 검증\n",
    "    pred = model.predict(X_test)\n",
    "    val_result.append(accuracy_score(y_test, pred))\n",
    "    \n",
    "val_result"
   ]
  },
  {
   "cell_type": "markdown",
   "id": "edff3304-acb4-4d26-ab74-6611f3701c16",
   "metadata": {},
   "source": [
    "### cross_val_score()\n",
    "\n",
    "- 교차검증 처리 함수, **평가 지표** 하나만 사용가능\n",
    "- 주요 매개 변수\n",
    "    - estimator: 모델객체\n",
    "    - X: feature\n",
    "    - y: label\n",
    "    - scoring: 평가지. 문자열, 함수\n",
    "    - cv: 나눌 개수 (K)\n",
    "        - 정수: 개수\n",
    "        - KFold 타입 객체\n",
    "    - 반환값\n",
    "        - array - 각 반복마다의 평가점수"
   ]
  },
  {
   "cell_type": "code",
   "execution_count": 12,
   "id": "08958e77-c8ba-4d06-bdca-40cad64c6ac4",
   "metadata": {},
   "outputs": [
    {
     "name": "stdout",
     "output_type": "stream",
     "text": [
      "[25.325642   25.07376354 42.7879561  42.4207859 ]\n"
     ]
    }
   ],
   "source": [
    "import pandas as pd\n",
    "df = pd.read_csv('data/boston_housing.csv')\n",
    "y = df['MEDV'].values\n",
    "X = df.drop(columns=\"MEDV\").values\n",
    "\n",
    "# train / test set 분리\n",
    "from sklearn.model_selection import train_test_split\n",
    "X_train, X_test, y_train, y_test  = train_test_split(X, y, test_size=0.2, random_state=0)\n",
    "\n",
    "# cross validation (교차 검증) - cross_val_score() 이용\n",
    "from sklearn.model_selection import cross_val_score\n",
    "from sklearn.tree import DecisionTreeRegressor\n",
    "\n",
    "# 모델 생성\n",
    "model = DecisionTreeRegressor(max_depth=2, random_state=0)\n",
    "val_results = cross_val_score(\n",
    "    estimator = model, # 교차 검증할 모델\n",
    "    X=X_train,\n",
    "    y=y_train,\n",
    "    scoring=\"neg_mean_squared_error\", # 평가 지표 함수 - 문자열\n",
    "    cv=4\n",
    ")\n",
    "\n",
    "#### neg_mean_squared_error 를 사용하는 이유. (MSE 결과를 음수로 바꾼다.)\n",
    "# scikit-learn은 평가 결과값이 클수록 성능이 더 좋은 모델이라고 처리한다.    \n",
    "# 그런데 MSE 의 경우는 낮을 수록 더 좋은 모델이다.   \n",
    "# 그래서 음수를 붙어서 클수록 좋은 성능이 되도록 하는 scikit-learn 방식에 맞춘다.\n",
    "print(-val_results)"
   ]
  },
  {
   "cell_type": "code",
   "execution_count": 13,
   "id": "e7978e87-79e9-4840-9f34-7f9fd45b6219",
   "metadata": {},
   "outputs": [
    {
     "data": {
      "text/plain": [
       "{'max_depth': [1, 2, 3, 4, 5],\n",
       " 'score': [array([-45.89379405, -40.67507482, -71.05002262, -55.33355572]),\n",
       "  array([-25.325642  , -25.07376354, -42.7879561 , -42.4207859 ]),\n",
       "  array([-15.89637347, -24.77699693, -49.78552275, -25.01324593]),\n",
       "  array([-12.560709  , -16.50424255, -49.41891582, -20.55564482]),\n",
       "  array([-11.13574744, -18.13445467, -52.99608118, -14.40992532])],\n",
       " 'mean_score': [-53.23811180112813,\n",
       "  -33.90203688337762,\n",
       "  -28.868034772038833,\n",
       "  -24.759878046646527,\n",
       "  -24.169052153115132]}"
      ]
     },
     "execution_count": 13,
     "metadata": {},
     "output_type": "execute_result"
    }
   ],
   "source": [
    "import numpy as np\n",
    "# 하이퍼파라미터(max_depth) 변경하며 모델 성능 체크\n",
    "max_depth_list = [1, 2, 3, 4, 5]\n",
    "\n",
    "results = {\"max_depth\":[], \"score\":[], \"mean_score\":[]}\n",
    "\n",
    "for max_depth in max_depth_list :\n",
    "    model = DecisionTreeRegressor(max_depth=max_depth, random_state=0)\n",
    "    #교차 검증 이용해 성능평가\n",
    "    scores = cross_val_score(\n",
    "        estimator=model,\n",
    "        X=X_train,\n",
    "        y=y_train,\n",
    "        scoring=\"neg_mean_squared_error\",\n",
    "        cv=4\n",
    "    )\n",
    "    results['max_depth'].append(max_depth)\n",
    "    results['score'].append(scores)\n",
    "    results['mean_score'].append(np.mean(scores))\n",
    "results"
   ]
  },
  {
   "cell_type": "code",
   "execution_count": 14,
   "id": "e6cf5298-7466-4c0e-9aeb-5631c9577a07",
   "metadata": {},
   "outputs": [
    {
     "data": {
      "text/plain": [
       "32.0407432413041"
      ]
     },
     "execution_count": 14,
     "metadata": {},
     "output_type": "execute_result"
    }
   ],
   "source": [
    "# max_depth = 5일 때 검증 결과 제일 좋음\n",
    "best_model = DecisionTreeRegressor(max_depth=5, random_state=0)\n",
    "best_model.fit(X_train, y_train)\n",
    "\n",
    "from sklearn.metrics import mean_squared_error\n",
    "pred_test = best_model.predict(X_test)\n",
    "mean_squared_error(y_test, pred_test)"
   ]
  },
  {
   "cell_type": "markdown",
   "id": "dccecc88-91ca-40dd-8af0-6052c3b8aa69",
   "metadata": {},
   "source": [
    "### cross_validate()\n",
    "- 교차 검증을 처리하는 함수\n",
    "  - DataSet K번 나눠서 평가해주는 함수\n",
    "  - 평가 지표를 **여러 개** 사용할 수 있다.\n",
    "- 주요매개변수\n",
    "    - estimator: 모델객체\n",
    "    - X: feature\n",
    "    - y: label\n",
    "    - scoring: 평가지표. 문자열, 함수, 리스트(여러개일 때는 리스트로 묶어준다.)\n",
    "    - cv: 나눌 개수 (K)\n",
    "    - 반환값: dictionary"
   ]
  },
  {
   "cell_type": "code",
   "execution_count": 15,
   "id": "729f14fe-2403-43d7-a5d5-41a051b717a3",
   "metadata": {},
   "outputs": [
    {
     "data": {
      "text/plain": [
       "dict_keys(['fit_time', 'score_time', 'test_r2', 'test_neg_mean_absolute_error'])"
      ]
     },
     "execution_count": 15,
     "metadata": {},
     "output_type": "execute_result"
    }
   ],
   "source": [
    "from sklearn.model_selection import cross_validate, cross_val_score, KFold, StratifiedKFold, train_test_split\n",
    "model2 = DecisionTreeRegressor(max_depth=5)\n",
    "result_dict = cross_validate(\n",
    "    estimator=model2,\n",
    "    X = X_train,\n",
    "    y = y_train,\n",
    "    scoring=[\"r2\", \"neg_mean_absolute_error\"],\n",
    "    cv=4\n",
    ")\n",
    "#fit_time : 학습 시간, score_time : 검증 시간\n",
    "result_dict.keys()"
   ]
  },
  {
   "cell_type": "code",
   "execution_count": 16,
   "id": "bec521e2-20e6-4e5a-8457-8a275fdfbffd",
   "metadata": {},
   "outputs": [
    {
     "data": {
      "text/plain": [
       "{'fit_time': array([0.00234222, 0.00204706, 0.00198412, 0.00205612]),\n",
       " 'score_time': array([0.00200701, 0.00125575, 0.00117564, 0.00122786]),\n",
       " 'test_r2': array([0.83442032, 0.7539876 , 0.37904901, 0.84873974]),\n",
       " 'test_neg_mean_absolute_error': array([-2.76610032, -2.91072176, -3.88536973, -2.73557689])}"
      ]
     },
     "execution_count": 16,
     "metadata": {},
     "output_type": "execute_result"
    }
   ],
   "source": [
    "result_dict"
   ]
  }
 ],
 "metadata": {
  "kernelspec": {
   "display_name": "Python 3 (ipykernel)",
   "language": "python",
   "name": "python3"
  },
  "language_info": {
   "codemirror_mode": {
    "name": "ipython",
    "version": 3
   },
   "file_extension": ".py",
   "mimetype": "text/x-python",
   "name": "python",
   "nbconvert_exporter": "python",
   "pygments_lexer": "ipython3",
   "version": "3.12.7"
  }
 },
 "nbformat": 4,
 "nbformat_minor": 5
}

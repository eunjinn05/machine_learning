{
 "cells": [
  {
   "cell_type": "markdown",
   "id": "c8f5670a-7a3a-4db0-86f9-42e65fc6330f",
   "metadata": {},
   "source": [
    "### DecisionTree 모델 시각화를 통해 과적합 원인 확인"
   ]
  },
  {
   "cell_type": "code",
   "execution_count": 3,
   "id": "2a08049f-afa5-4a62-87f7-066b162694c9",
   "metadata": {},
   "outputs": [],
   "source": [
    "from sklearn.datasets import load_breast_cancer\n",
    "from sklearn.model_selection import train_test_split\n",
    "\n",
    "data = load_breast_cancer()\n",
    "X, y = data.data, data.target\n",
    "\n",
    "X_train, X_test, y_train, y_test =  train_test_split(X, y, stratify=y, random_state=0)"
   ]
  },
  {
   "cell_type": "code",
   "execution_count": 4,
   "id": "578f5fa4-75a5-4ff7-b6d8-bead644ff83f",
   "metadata": {},
   "outputs": [],
   "source": [
    "from sklearn.tree import DecisionTreeClassifier\n",
    "from sklearn.metrics import accuracy_score\n",
    "\n",
    "def tree_modeling(X, y, max_depth=None) :\n",
    "    tree = DecisionTreeClassifier(max_depth=max_depth,  random_state=0)\n",
    "    tree.fit(X, y)\n",
    "    return tree\n",
    "\n",
    "def tree_accuracy(X, y, model, title) :\n",
    "    pred = model.predict(X)\n",
    "    acc = accuracy_score(y, pred)\n",
    "    print(f'{title} : {acc}')"
   ]
  },
  {
   "cell_type": "code",
   "execution_count": 7,
   "id": "7955b8da-b175-4ec6-bf18-2f90a28230ed",
   "metadata": {},
   "outputs": [
    {
     "name": "stdout",
     "output_type": "stream",
     "text": [
      "Train set : 0.9295774647887324\n",
      "Test set : 0.8881118881118881\n"
     ]
    }
   ],
   "source": [
    "tree1 = tree_modeling(X_train, y_train, 1)\n",
    "tree_accuracy(X_train, y_train, tree1, 'Train set')\n",
    "tree_accuracy(X_test, y_test, tree1, 'Test set')"
   ]
  },
  {
   "cell_type": "markdown",
   "id": "cd89699c-a282-4e41-b84d-11d8d42c197e",
   "metadata": {},
   "source": [
    "### 최적의 max_depth 찾기"
   ]
  },
  {
   "cell_type": "code",
   "execution_count": 13,
   "id": "8e10b45d-42ef-45cc-b1dc-fbda553316ab",
   "metadata": {},
   "outputs": [],
   "source": [
    "max_depth_list = range(1, 7)\n",
    "\n",
    "train_acc_list, test_acc_list = [], []\n",
    "\n",
    "for max_depth in max_depth_list : \n",
    "    model = DecisionTreeClassifier(max_depth=max_depth, random_state=0)\n",
    "    model.fit(X_train, y_train)\n",
    "\n",
    "    pred_train = model.predict(X_train)\n",
    "    pred_test = model.predict(X_test)\n",
    "\n",
    "    train_acc_list.append(accuracy_score(y_train, pred_train))\n",
    "    test_acc_list.append(accuracy_score(y_test, pred_test))"
   ]
  },
  {
   "cell_type": "code",
   "execution_count": 16,
   "id": "fcedc40a-2d54-4a8b-9553-e21ab7c5c471",
   "metadata": {},
   "outputs": [
    {
     "data": {
      "text/html": [
       "<div>\n",
       "<style scoped>\n",
       "    .dataframe tbody tr th:only-of-type {\n",
       "        vertical-align: middle;\n",
       "    }\n",
       "\n",
       "    .dataframe tbody tr th {\n",
       "        vertical-align: top;\n",
       "    }\n",
       "\n",
       "    .dataframe thead th {\n",
       "        text-align: right;\n",
       "    }\n",
       "</style>\n",
       "<table border=\"1\" class=\"dataframe\">\n",
       "  <thead>\n",
       "    <tr style=\"text-align: right;\">\n",
       "      <th></th>\n",
       "      <th>max_depth</th>\n",
       "      <th>train_acc</th>\n",
       "      <th>test_acc</th>\n",
       "    </tr>\n",
       "  </thead>\n",
       "  <tbody>\n",
       "    <tr>\n",
       "      <th>0</th>\n",
       "      <td>1</td>\n",
       "      <td>0.929577</td>\n",
       "      <td>0.888112</td>\n",
       "    </tr>\n",
       "    <tr>\n",
       "      <th>1</th>\n",
       "      <td>2</td>\n",
       "      <td>0.931925</td>\n",
       "      <td>0.888112</td>\n",
       "    </tr>\n",
       "    <tr>\n",
       "      <th>2</th>\n",
       "      <td>3</td>\n",
       "      <td>0.976526</td>\n",
       "      <td>0.916084</td>\n",
       "    </tr>\n",
       "    <tr>\n",
       "      <th>3</th>\n",
       "      <td>4</td>\n",
       "      <td>0.985915</td>\n",
       "      <td>0.909091</td>\n",
       "    </tr>\n",
       "    <tr>\n",
       "      <th>4</th>\n",
       "      <td>5</td>\n",
       "      <td>1.000000</td>\n",
       "      <td>0.902098</td>\n",
       "    </tr>\n",
       "    <tr>\n",
       "      <th>5</th>\n",
       "      <td>6</td>\n",
       "      <td>1.000000</td>\n",
       "      <td>0.902098</td>\n",
       "    </tr>\n",
       "  </tbody>\n",
       "</table>\n",
       "</div>"
      ],
      "text/plain": [
       "   max_depth  train_acc  test_acc\n",
       "0          1   0.929577  0.888112\n",
       "1          2   0.931925  0.888112\n",
       "2          3   0.976526  0.916084\n",
       "3          4   0.985915  0.909091\n",
       "4          5   1.000000  0.902098\n",
       "5          6   1.000000  0.902098"
      ]
     },
     "execution_count": 16,
     "metadata": {},
     "output_type": "execute_result"
    }
   ],
   "source": [
    "import pandas as pd\n",
    "\n",
    "result_df = pd.DataFrame({\n",
    "    \"max_depth\" : max_depth_list,\n",
    "    \"train_acc\" : train_acc_list,\n",
    "    \"test_acc\" : test_acc_list\n",
    "})\n",
    "result_df"
   ]
  },
  {
   "cell_type": "code",
   "execution_count": 18,
   "id": "6db9377f-ef1e-450c-a636-ebe7e376ba15",
   "metadata": {},
   "outputs": [
    {
     "data": {
      "text/plain": [
       "<Axes: xlabel='max_depth'>"
      ]
     },
     "execution_count": 18,
     "metadata": {},
     "output_type": "execute_result"
    },
    {
     "data": {
      "image/png": "[encoded data removed]",
      "text/plain": [
       "<Figure size 640x480 with 1 Axes>"
      ]
     },
     "metadata": {},
     "output_type": "display_data"
    }
   ],
   "source": [
    "result_df.set_index('max_depth').plot()"
   ]
  },
  {
   "cell_type": "markdown",
   "id": "3abe6829-a0d0-48ab-97b1-5f353c37e7d7",
   "metadata": {},
   "source": [
    "### Grid Search를 이용한 하이퍼파라미터 자동화\n",
    "- 최적의 하이퍼파라미터 자동으로 찾아줌\n",
    "\n",
    "1. Grid Search 방식\n",
    "   - sklearn.model_selection.GridSearchCV\n",
    "2. Random Search 방식\n",
    "   - sklearn.model_selection.RandomizedSearchCV\n",
    "  \n",
    "#### Grid search"
   ]
  },
  {
   "cell_type": "code",
   "execution_count": 19,
   "id": "09ff35a1-0ca3-4889-97dd-252772f982af",
   "metadata": {},
   "outputs": [],
   "source": [
    "from sklearn.datasets import load_breast_cancer\n",
    "from sklearn.model_selection import train_test_split\n",
    "\n",
    "X, y = load_breast_cancer(return_X_y=True)\n",
    "\n",
    "X_train, x_test, y_train, y_test = train_test_split(X, y, stratify=y, random_state=0)"
   ]
  },
  {
   "cell_type": "code",
   "execution_count": 27,
   "id": "55a2bf8c-e605-4ff5-9a84-b40d23d3a013",
   "metadata": {},
   "outputs": [
    {
     "name": "stdout",
     "output_type": "stream",
     "text": [
      "가장 성능 좋은 parameter :  {'max_depth': 2, 'max_leaf_nodes': 4}\n",
      "가장 좋은 성능 점수 : 0.9248809733733028\n"
     ]
    }
   ],
   "source": [
    "from sklearn.model_selection import GridSearchCV\n",
    "from sklearn.tree import DecisionTreeClassifier\n",
    "\n",
    "model = DecisionTreeClassifier(random_state=0)\n",
    "\n",
    "params  =  {\n",
    "    'max_depth' : [1, 2, 3, 4, 5],\n",
    "    'max_leaf_nodes' :  range(3, 11)\n",
    "}\n",
    "\n",
    "gs = GridSearchCV(\n",
    "    estimator = model, # 모델\n",
    "    param_grid = params, # hyper parameter\n",
    "    scoring = 'accuracy', # 평가지표가 가장 높은 hyper parameter 찾음\n",
    "    cv=4,\n",
    "    n_jobs = -1\n",
    ")\n",
    "\n",
    "gs.fit(X_train, y_train)\n",
    "\n",
    "print('가장 성능 좋은 parameter : ',gs.best_params_)\n",
    "print('가장 좋은 성능 점수 :', gs.best_score_)\n",
    "\n",
    "best_model = gs.best_estimator_ # 가장 좋은 모델"
   ]
  },
  {
   "cell_type": "markdown",
   "id": "b92199e8-89ad-491e-a366-364c77a860b9",
   "metadata": {},
   "source": [
    "#### Randomized Search CV"
   ]
  },
  {
   "cell_type": "code",
   "execution_count": null,
   "id": "e6531612-5015-4b45-a981-1140ecddb61d",
   "metadata": {},
   "outputs": [],
   "source": [
    "from sklearn.model_selection import RandomizedSearchCV\n",
    "import numpy as np\n",
    "\n",
    "model  = DecisionTreeClassifier(random_state=0)\n",
    "params  = {\n",
    "    'max_depth': range(1, 6),\n",
    "    'max_leaf_nodes' : range(3, 30),\n",
    "    'max_features' :  np.arange(0.1, 1.1, 0.1)\n",
    "}\n",
    "\n",
    "rs.RandomizedSearchCV(\n",
    "    model,\n",
    "    params,\n",
    "    n_iter=60,\n",
    "    scoring='accuracy',\n",
    "    cv=4,\n",
    "    n_jobs=-1\n",
    ")"
   ]
  },
  {
   "cell_type": "code",
   "execution_count": null,
   "id": "f1ac1484-12b8-45b0-894c-eaf4647c3b65",
   "metadata": {},
   "outputs": [],
   "source": []
  }
 ],
 "metadata": {
  "kernelspec": {
   "display_name": "Python 3 (ipykernel)",
   "language": "python",
   "name": "python3"
  },
  "language_info": {
   "codemirror_mode": {
    "name": "ipython",
    "version": 3
   },
   "file_extension": ".py",
   "mimetype": "text/x-python",
   "name": "python",
   "nbconvert_exporter": "python",
   "pygments_lexer": "ipython3",
   "version": "3.12.7"
  }
 },
 "nbformat": 4,
 "nbformat_minor": 5
}

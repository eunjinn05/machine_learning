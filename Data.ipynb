{
 "cells": [
  {
   "cell_type": "code",
   "execution_count": null,
   "id": "037f7a98-306e-436a-9bac-5e3a8c67827d",
   "metadata": {},
   "outputs": [],
   "source": []
  },
  {
   "cell_type": "markdown",
   "id": "4409a4ca-dceb-4031-9a15-9e598ce2d12c",
   "metadata": {},
   "source": [
    "## Data Preprocessing.\n",
    ": 데이터 분석이나 머신러닝 모델에 적합한 형태로 데이터셋을 변환 또는 조정하는 과정\n",
    "\n",
    "**Data Cleaning(데이터 정제)**\n",
    "- 데이터셋에 있는 오류 값, 불필요한 값, 결측치, 중복 값등을 제거\n",
    "**컬럼 선택 및 파생변수 생성**\n",
    "- 컬럼 중 분석에 필요한 컬럼만 선택하거나, 기존 컬럼을 계산한 결과 값을 가지는 새로운 변수 생성\n",
    "**Feature의 데이터 타입 반환**\n",
    "- 문자열을 날짜 타입으로 변환, 범주형을 수치형으로 변환 등 원래 데이터의 형식에 맞게 변환하는 작업\n",
    "  - 수치형 데이터 (Featrue Scaling) : 수치형 컬럼의 scale을 맞춰 줌\n",
    "  - 범주형 데이터 인코딩 : 문자열 형태의 범주형 데이터를 숫자로 맞춰 줌\n"
   ]
  },
  {
   "cell_type": "markdown",
   "id": "c100dcc6-fed2-4441-aa62-f47a50395f6f",
   "metadata": {},
   "source": [
    "### 결측치(Missing Value)처리\n",
    "- 결측치 : 수집하지 못한 값, 모르는 값, 없는 값. (NA, NaN, None, null)으로 표현"
   ]
  },
  {
   "cell_type": "markdown",
   "id": "e157668f-05ae-4e3d-8274-ce72ff7a7fbc",
   "metadata": {},
   "source": [
    "### 결측치 처리 방법\n",
    "\n",
    "1. 결측치 삭제\n",
    "    - 리스트와이즈 삭제\n",
    "     - 결측치가 있는 행들을 삭제, 데이터가 충분히 크고 결측치가 많지 않을때 사용\n",
    "    - 컬럼 삭제\n",
    "      - 컬럼 자체에 결측치가 너무 많을 경우 컬럼 제거 할 수 있음"
   ]
  },
  {
   "cell_type": "code",
   "execution_count": 3,
   "id": "003a6f5a-c4ce-4dd8-be04-b4ffb2527031",
   "metadata": {},
   "outputs": [
    {
     "data": {
      "text/html": [
       "<div>\n",
       "<style scoped>\n",
       "    .dataframe tbody tr th:only-of-type {\n",
       "        vertical-align: middle;\n",
       "    }\n",
       "\n",
       "    .dataframe tbody tr th {\n",
       "        vertical-align: top;\n",
       "    }\n",
       "\n",
       "    .dataframe thead th {\n",
       "        text-align: right;\n",
       "    }\n",
       "</style>\n",
       "<table border=\"1\" class=\"dataframe\">\n",
       "  <thead>\n",
       "    <tr style=\"text-align: right;\">\n",
       "      <th></th>\n",
       "      <th>name</th>\n",
       "      <th>age</th>\n",
       "      <th>weight</th>\n",
       "    </tr>\n",
       "  </thead>\n",
       "  <tbody>\n",
       "    <tr>\n",
       "      <th>0</th>\n",
       "      <td>제니</td>\n",
       "      <td>29.0</td>\n",
       "      <td>NaN</td>\n",
       "    </tr>\n",
       "    <tr>\n",
       "      <th>1</th>\n",
       "      <td>지수</td>\n",
       "      <td>30.0</td>\n",
       "      <td>50.0</td>\n",
       "    </tr>\n",
       "    <tr>\n",
       "      <th>2</th>\n",
       "      <td>리사</td>\n",
       "      <td>NaN</td>\n",
       "      <td>47.0</td>\n",
       "    </tr>\n",
       "    <tr>\n",
       "      <th>3</th>\n",
       "      <td>로제</td>\n",
       "      <td>28.0</td>\n",
       "      <td>48.0</td>\n",
       "    </tr>\n",
       "  </tbody>\n",
       "</table>\n",
       "</div>"
      ],
      "text/plain": [
       "  name   age  weight\n",
       "0   제니  29.0     NaN\n",
       "1   지수  30.0    50.0\n",
       "2   리사   NaN    47.0\n",
       "3   로제  28.0    48.0"
      ]
     },
     "execution_count": 3,
     "metadata": {},
     "output_type": "execute_result"
    }
   ],
   "source": [
    "import pandas as pd\n",
    "import numpy as np\n",
    "\n",
    "data = {\n",
    "    \"name\":['제니', '지수', '리사', '로제'],\n",
    "    \"age\":[29, 30, np.nan, 28],\n",
    "    \"weight\":[np.nan, 50, 47, 48]\n",
    "}\n",
    "df = pd.DataFrame(data)\n",
    "df"
   ]
  },
  {
   "cell_type": "code",
   "execution_count": 5,
   "id": "3b62aa4f-bf04-4627-9ec5-e8d03b946404",
   "metadata": {},
   "outputs": [
    {
     "data": {
      "text/plain": [
       "name      0\n",
       "age       1\n",
       "weight    1\n",
       "dtype: int64"
      ]
     },
     "execution_count": 5,
     "metadata": {},
     "output_type": "execute_result"
    }
   ],
   "source": [
    "# 결측치 확인\n",
    "df.isna().sum()"
   ]
  },
  {
   "cell_type": "code",
   "execution_count": 7,
   "id": "7b48723c-3d34-4d9f-88a0-07e3e4874e9a",
   "metadata": {},
   "outputs": [
    {
     "data": {
      "text/html": [
       "<div>\n",
       "<style scoped>\n",
       "    .dataframe tbody tr th:only-of-type {\n",
       "        vertical-align: middle;\n",
       "    }\n",
       "\n",
       "    .dataframe tbody tr th {\n",
       "        vertical-align: top;\n",
       "    }\n",
       "\n",
       "    .dataframe thead th {\n",
       "        text-align: right;\n",
       "    }\n",
       "</style>\n",
       "<table border=\"1\" class=\"dataframe\">\n",
       "  <thead>\n",
       "    <tr style=\"text-align: right;\">\n",
       "      <th></th>\n",
       "      <th>name</th>\n",
       "      <th>age</th>\n",
       "      <th>weight</th>\n",
       "    </tr>\n",
       "  </thead>\n",
       "  <tbody>\n",
       "    <tr>\n",
       "      <th>1</th>\n",
       "      <td>지수</td>\n",
       "      <td>30.0</td>\n",
       "      <td>50.0</td>\n",
       "    </tr>\n",
       "    <tr>\n",
       "      <th>3</th>\n",
       "      <td>로제</td>\n",
       "      <td>28.0</td>\n",
       "      <td>48.0</td>\n",
       "    </tr>\n",
       "  </tbody>\n",
       "</table>\n",
       "</div>"
      ],
      "text/plain": [
       "  name   age  weight\n",
       "1   지수  30.0    50.0\n",
       "3   로제  28.0    48.0"
      ]
     },
     "execution_count": 7,
     "metadata": {},
     "output_type": "execute_result"
    }
   ],
   "source": [
    "# 제거 - 행단위 (리스트와이즈)\n",
    "df.dropna()\n",
    "# 제거 - 열단위\n",
    "df.dropna(axis=1)"
   ]
  },
  {
   "cell_type": "markdown",
   "id": "48fe06b4-e225-4283-b139-2b4d33367e11",
   "metadata": {},
   "source": [
    "2. 결측치 대체 (imputation)\n",
    ": 결측치를 수집하지 못해 누락된 경우, 그 값일 가능성이 가장 높은 값으로 대체 가능\n",
    "    - 평균/중앙값/최빈값 대체\n",
    "      : 수치형 변수의 경우 평균이나 중앙값으로, 범주형 변수의 경우 최빈값으로 결측치 대체\n",
    "      1. 평균으로 대체 : 수치형 컬럼으로 outlier의 영향을 받지 않는 모델이거나 정규 분포를 따르거나 outlier가 없는 경우\n",
    "      2. 중앙값으로 대체 : 수치형 컬럼으로 outlier가 존재하거나 데이터 분포가 비대칭인 컬럼 (보통 중앙값 사용)\n",
    "      3. 최빈값으로 대체 : 범주형 컬럼인 경우 대표값인 최빈값으로 대체\n",
    "    - 모델링 기반 대체\n",
    "      : 결측치가 있는 컬럼을 output으로 결측치가 없는 행들을 input하여 결측치 예측하는 모델을 정의\n",
    "      1. K-NN (K-최근접 이웃) 대체 : 결측치가 있는 데이터 포인트와 가장 가까운 K개 포인트 찾아 평균값(수치형)이나 최빈값(범주형)으로 대체\n",
    "    - 결측치를 표현하는 값으로 대체\n",
    "      : 나이 컬럼의 nan을 -1이나 없음으로 그 컬럼이 가질 수 없는 값을 사용"
   ]
  },
  {
   "cell_type": "code",
   "execution_count": 7,
   "id": "10f19a3b-124b-401d-9fad-2f2b57c14b54",
   "metadata": {},
   "outputs": [],
   "source": [
    "import pandas as pd\n",
    "import numpy as np\n",
    "\n",
    "df = pd.DataFrame([\n",
    "    [0.1, 2.2, np.nan],\n",
    "    [0.3, np.nan, 1],\n",
    "    [np.nan, 6, 1],\n",
    "    [0.08, 2.4, 1]\n",
    "], columns=['A', 'B', 'C'])\n",
    "\n",
    "org = df.copy()"
   ]
  },
  {
   "cell_type": "code",
   "execution_count": 8,
   "id": "33c40e81-1c69-4c81-a602-7b14d5d31d96",
   "metadata": {},
   "outputs": [
    {
     "data": {
      "text/html": [
       "<div>\n",
       "<style scoped>\n",
       "    .dataframe tbody tr th:only-of-type {\n",
       "        vertical-align: middle;\n",
       "    }\n",
       "\n",
       "    .dataframe tbody tr th {\n",
       "        vertical-align: top;\n",
       "    }\n",
       "\n",
       "    .dataframe thead th {\n",
       "        text-align: right;\n",
       "    }\n",
       "</style>\n",
       "<table border=\"1\" class=\"dataframe\">\n",
       "  <thead>\n",
       "    <tr style=\"text-align: right;\">\n",
       "      <th></th>\n",
       "      <th>A</th>\n",
       "      <th>B</th>\n",
       "      <th>C</th>\n",
       "    </tr>\n",
       "  </thead>\n",
       "  <tbody>\n",
       "    <tr>\n",
       "      <th>0</th>\n",
       "      <td>0.10</td>\n",
       "      <td>2.2</td>\n",
       "      <td>NaN</td>\n",
       "    </tr>\n",
       "    <tr>\n",
       "      <th>1</th>\n",
       "      <td>0.30</td>\n",
       "      <td>NaN</td>\n",
       "      <td>1.0</td>\n",
       "    </tr>\n",
       "    <tr>\n",
       "      <th>2</th>\n",
       "      <td>NaN</td>\n",
       "      <td>6.0</td>\n",
       "      <td>1.0</td>\n",
       "    </tr>\n",
       "    <tr>\n",
       "      <th>3</th>\n",
       "      <td>0.08</td>\n",
       "      <td>2.4</td>\n",
       "      <td>1.0</td>\n",
       "    </tr>\n",
       "  </tbody>\n",
       "</table>\n",
       "</div>"
      ],
      "text/plain": [
       "      A    B    C\n",
       "0  0.10  2.2  NaN\n",
       "1  0.30  NaN  1.0\n",
       "2   NaN  6.0  1.0\n",
       "3  0.08  2.4  1.0"
      ]
     },
     "execution_count": 8,
     "metadata": {},
     "output_type": "execute_result"
    }
   ],
   "source": [
    "df"
   ]
  },
  {
   "cell_type": "code",
   "execution_count": 9,
   "id": "5fe3e024-e64b-446b-9137-6d96533a995e",
   "metadata": {},
   "outputs": [
    {
     "data": {
      "text/html": [
       "<div>\n",
       "<style scoped>\n",
       "    .dataframe tbody tr th:only-of-type {\n",
       "        vertical-align: middle;\n",
       "    }\n",
       "\n",
       "    .dataframe tbody tr th {\n",
       "        vertical-align: top;\n",
       "    }\n",
       "\n",
       "    .dataframe thead th {\n",
       "        text-align: right;\n",
       "    }\n",
       "</style>\n",
       "<table border=\"1\" class=\"dataframe\">\n",
       "  <thead>\n",
       "    <tr style=\"text-align: right;\">\n",
       "      <th></th>\n",
       "      <th>A</th>\n",
       "      <th>B</th>\n",
       "      <th>C</th>\n",
       "    </tr>\n",
       "  </thead>\n",
       "  <tbody>\n",
       "    <tr>\n",
       "      <th>0</th>\n",
       "      <td>0.10</td>\n",
       "      <td>2.2</td>\n",
       "      <td>NaN</td>\n",
       "    </tr>\n",
       "    <tr>\n",
       "      <th>1</th>\n",
       "      <td>0.30</td>\n",
       "      <td>NaN</td>\n",
       "      <td>1.0</td>\n",
       "    </tr>\n",
       "    <tr>\n",
       "      <th>2</th>\n",
       "      <td>0.16</td>\n",
       "      <td>6.0</td>\n",
       "      <td>1.0</td>\n",
       "    </tr>\n",
       "    <tr>\n",
       "      <th>3</th>\n",
       "      <td>0.08</td>\n",
       "      <td>2.4</td>\n",
       "      <td>1.0</td>\n",
       "    </tr>\n",
       "  </tbody>\n",
       "</table>\n",
       "</div>"
      ],
      "text/plain": [
       "      A    B    C\n",
       "0  0.10  2.2  NaN\n",
       "1  0.30  NaN  1.0\n",
       "2  0.16  6.0  1.0\n",
       "3  0.08  2.4  1.0"
      ]
     },
     "execution_count": 9,
     "metadata": {},
     "output_type": "execute_result"
    }
   ],
   "source": [
    "# 컬럼별 평균 대체\n",
    "df['A'] = df['A'].fillna(df['A'].mean())\n",
    "df"
   ]
  },
  {
   "cell_type": "code",
   "execution_count": 10,
   "id": "4ead90e3-6481-4c8a-8ef9-1043d9b2356f",
   "metadata": {},
   "outputs": [
    {
     "data": {
      "text/html": [
       "<div>\n",
       "<style scoped>\n",
       "    .dataframe tbody tr th:only-of-type {\n",
       "        vertical-align: middle;\n",
       "    }\n",
       "\n",
       "    .dataframe tbody tr th {\n",
       "        vertical-align: top;\n",
       "    }\n",
       "\n",
       "    .dataframe thead th {\n",
       "        text-align: right;\n",
       "    }\n",
       "</style>\n",
       "<table border=\"1\" class=\"dataframe\">\n",
       "  <thead>\n",
       "    <tr style=\"text-align: right;\">\n",
       "      <th></th>\n",
       "      <th>A</th>\n",
       "      <th>B</th>\n",
       "      <th>C</th>\n",
       "    </tr>\n",
       "  </thead>\n",
       "  <tbody>\n",
       "    <tr>\n",
       "      <th>0</th>\n",
       "      <td>0.10</td>\n",
       "      <td>2.2</td>\n",
       "      <td>NaN</td>\n",
       "    </tr>\n",
       "    <tr>\n",
       "      <th>1</th>\n",
       "      <td>0.30</td>\n",
       "      <td>2.4</td>\n",
       "      <td>1.0</td>\n",
       "    </tr>\n",
       "    <tr>\n",
       "      <th>2</th>\n",
       "      <td>0.16</td>\n",
       "      <td>6.0</td>\n",
       "      <td>1.0</td>\n",
       "    </tr>\n",
       "    <tr>\n",
       "      <th>3</th>\n",
       "      <td>0.08</td>\n",
       "      <td>2.4</td>\n",
       "      <td>1.0</td>\n",
       "    </tr>\n",
       "  </tbody>\n",
       "</table>\n",
       "</div>"
      ],
      "text/plain": [
       "      A    B    C\n",
       "0  0.10  2.2  NaN\n",
       "1  0.30  2.4  1.0\n",
       "2  0.16  6.0  1.0\n",
       "3  0.08  2.4  1.0"
      ]
     },
     "execution_count": 10,
     "metadata": {},
     "output_type": "execute_result"
    }
   ],
   "source": [
    "# 컬럼별 중앙값 대체\n",
    "df['B'] = df['B'].fillna(df['B'].median())\n",
    "df"
   ]
  },
  {
   "cell_type": "code",
   "execution_count": 11,
   "id": "9270a9fa-4494-48c7-a2b2-9addbbdb3cf4",
   "metadata": {},
   "outputs": [
    {
     "data": {
      "text/html": [
       "<div>\n",
       "<style scoped>\n",
       "    .dataframe tbody tr th:only-of-type {\n",
       "        vertical-align: middle;\n",
       "    }\n",
       "\n",
       "    .dataframe tbody tr th {\n",
       "        vertical-align: top;\n",
       "    }\n",
       "\n",
       "    .dataframe thead th {\n",
       "        text-align: right;\n",
       "    }\n",
       "</style>\n",
       "<table border=\"1\" class=\"dataframe\">\n",
       "  <thead>\n",
       "    <tr style=\"text-align: right;\">\n",
       "      <th></th>\n",
       "      <th>A</th>\n",
       "      <th>B</th>\n",
       "      <th>C</th>\n",
       "    </tr>\n",
       "  </thead>\n",
       "  <tbody>\n",
       "    <tr>\n",
       "      <th>0</th>\n",
       "      <td>0.10</td>\n",
       "      <td>2.2</td>\n",
       "      <td>1.0</td>\n",
       "    </tr>\n",
       "    <tr>\n",
       "      <th>1</th>\n",
       "      <td>0.30</td>\n",
       "      <td>2.4</td>\n",
       "      <td>1.0</td>\n",
       "    </tr>\n",
       "    <tr>\n",
       "      <th>2</th>\n",
       "      <td>0.16</td>\n",
       "      <td>6.0</td>\n",
       "      <td>1.0</td>\n",
       "    </tr>\n",
       "    <tr>\n",
       "      <th>3</th>\n",
       "      <td>0.08</td>\n",
       "      <td>2.4</td>\n",
       "      <td>1.0</td>\n",
       "    </tr>\n",
       "  </tbody>\n",
       "</table>\n",
       "</div>"
      ],
      "text/plain": [
       "      A    B    C\n",
       "0  0.10  2.2  1.0\n",
       "1  0.30  2.4  1.0\n",
       "2  0.16  6.0  1.0\n",
       "3  0.08  2.4  1.0"
      ]
     },
     "execution_count": 11,
     "metadata": {},
     "output_type": "execute_result"
    }
   ],
   "source": [
    "df['C'] = df['C'].fillna(df['C'].mode()[0]) # mode() : Series 반환\n",
    "df"
   ]
  },
  {
   "cell_type": "markdown",
   "id": "2d5eb791-bc86-4119-a9c3-0df4a417ff33",
   "metadata": {},
   "source": [
    "## Scikit-learn 전처리기 이용한 대체\n",
    "\n",
    "### 1. SimpleImputer\n",
    "- SimpleImputer는 결측값을 대체하는데 사용되는 전처리 클래스, 평균, 중앙값, 최빈값으로 대체\n"
   ]
  },
  {
   "cell_type": "code",
   "execution_count": 16,
   "id": "1d60ad7d-6dd4-4536-a20d-5e4a1dce1f28",
   "metadata": {},
   "outputs": [
    {
     "data": {
      "text/plain": [
       "array([[0.1 , 2.2 , 1.  ],\n",
       "       [0.3 , 2.4 , 1.  ],\n",
       "       [0.1 , 6.  , 1.  ],\n",
       "       [0.08, 2.4 , 1.  ]])"
      ]
     },
     "execution_count": 16,
     "metadata": {},
     "output_type": "execute_result"
    }
   ],
   "source": [
    "df = org.copy()\n",
    "\n",
    "from sklearn.impute import SimpleImputer\n",
    "\n",
    "imputer1 = SimpleImputer(strategy=\"median\") # 중앙값\n",
    "imputer2 = SimpleImputer(strategy=\"most_frequent\") # 최빈값\n",
    "\n",
    "imputer1.fit(df[['A', 'B']]) # 결측치를 어떤 값으로 바꿀지 학습\n",
    "result1 = imputer1.transform(df[['A', 'B']]) # 변환 작업. fit에서 찾은 중앙값으로 결측치 대체\n",
    "\n",
    "# fit transform 같은 데이터 셋인 경우 사용\n",
    "result2 = imputer2.fit_transform(df['C'].to_frame()) # series.to_frame() : series->dataframe\n",
    "\n",
    "result = np.concatenate([result1, result2], axis=1)\n",
    "result"
   ]
  },
  {
   "cell_type": "markdown",
   "id": "ac2b82c0-ca4e-4554-9086-689ebbfe911d",
   "metadata": {},
   "source": [
    "### 2. KNNImputer\n",
    "- KNN 머신러닝 알고리즘 이용해 결측치 추정해서 대체\n",
    "- 결측값이 있는 샘플의 최근접 이웃을 찾아 그 이웃의 값을 평균 내어 결측값 대체"
   ]
  },
  {
   "cell_type": "code",
   "execution_count": 18,
   "id": "0da2e6cb-7806-47c5-aac6-73c4e380b49f",
   "metadata": {},
   "outputs": [
    {
     "data": {
      "text/plain": [
       "array([[0.1       , 2.2       , 1.        ],\n",
       "       [0.3       , 3.53333333, 1.        ],\n",
       "       [0.16      , 6.        , 1.        ],\n",
       "       [0.08      , 2.4       , 1.        ]])"
      ]
     },
     "execution_count": 18,
     "metadata": {},
     "output_type": "execute_result"
    }
   ],
   "source": [
    "df = org.copy()\n",
    "\n",
    "from sklearn.impute import KNNImputer\n",
    "\n",
    "imputer = KNNImputer(n_neighbors=3)  # K - 가까운 데이터 포인트 갯수 지정\n",
    "result = imputer.fit_transform(df)\n",
    "result"
   ]
  },
  {
   "cell_type": "markdown",
   "id": "8b028515-e4d5-48d5-a747-ef2b5dd05bad",
   "metadata": {},
   "source": [
    "## 이상치(Outlier) 처리\n",
    "- 데이터 집합에서 다른 관측치들과 크게 다른 값을 가지는 데이터 포인트\n",
    "- 정확하게 식별하고 처리하는 것이 분석의 정확성과 신뢰성 높임\n",
    "  \n",
    "#### 극단치(분포에서 벗어난 값)\n",
    "- 정상적인 값이지만 다른 값들과 다른 패턴을 가지는 값, 일반적으로 극단적으로 크거나 작은 값\n",
    "- 처리 방법\n",
    "    - 제거한다.\n",
    "        - 결측치로 대체 하거나 데이터 포인트(행)를 제거한다.\n",
    "        - outlier가 분석 결과에 부정적 영항을 미치는 경우.\n",
    "        - outlier값이 대상 집단을 대표하지 않는다고 판단할 경우.\n",
    "        - 명확히 잘못수집 된 오류값일 경우\n",
    "    - 윈저화 (Winsorization)\n",
    "        - 최소값과 최값을 정해 놓고 그 범위를 넘어서는 작은 값은 최소값으로 범위를 넘어서 큰 값은 최대값으로 대체한다.\n",
    "    - 대체 (Imputation)\n",
    "        - 평균, 중앙값, 최빈값 등으로 대체한다.\n",
    "\n",
    "\n",
    "### 통계적 기준\n",
    "####  1. 표준편차 기준\n",
    ": 데이터가 정규분포를 따른다고 가정할때 평균으로부터 표준오차 범위 밖으로 떨어진 데이터를 outlier로  판단\n",
    "\n",
    "\\begin{align}\n",
    "&정상범위\\,값: \\mu - k \\times \\sigma \\ \\leq value \\leq \\mu + k \\times \\sigma \\\\\n",
    "&\\mu: 평균,\\, \\sigma: 표준편차\n",
    "\\end{align}"
   ]
  },
  {
   "cell_type": "code",
   "execution_count": 2,
   "id": "791c713f-d6f2-43fb-a65a-abd06e283a8c",
   "metadata": {},
   "outputs": [
    {
     "data": {
      "text/html": [
       "<div>\n",
       "<style scoped>\n",
       "    .dataframe tbody tr th:only-of-type {\n",
       "        vertical-align: middle;\n",
       "    }\n",
       "\n",
       "    .dataframe tbody tr th {\n",
       "        vertical-align: top;\n",
       "    }\n",
       "\n",
       "    .dataframe thead th {\n",
       "        text-align: right;\n",
       "    }\n",
       "</style>\n",
       "<table border=\"1\" class=\"dataframe\">\n",
       "  <thead>\n",
       "    <tr style=\"text-align: right;\">\n",
       "      <th></th>\n",
       "      <th>a</th>\n",
       "      <th>b</th>\n",
       "      <th>c</th>\n",
       "    </tr>\n",
       "  </thead>\n",
       "  <tbody>\n",
       "    <tr>\n",
       "      <th>0</th>\n",
       "      <td>100.000000</td>\n",
       "      <td>10.800314</td>\n",
       "      <td>200.000000</td>\n",
       "    </tr>\n",
       "    <tr>\n",
       "      <th>1</th>\n",
       "      <td>14.481786</td>\n",
       "      <td>13.735116</td>\n",
       "      <td>8.045444</td>\n",
       "    </tr>\n",
       "    <tr>\n",
       "      <th>2</th>\n",
       "      <td>11.900177</td>\n",
       "      <td>9.697286</td>\n",
       "      <td>9.793562</td>\n",
       "    </tr>\n",
       "    <tr>\n",
       "      <th>3</th>\n",
       "      <td>300.000000</td>\n",
       "      <td>10.288087</td>\n",
       "      <td>-100.000000</td>\n",
       "    </tr>\n",
       "    <tr>\n",
       "      <th>4</th>\n",
       "      <td>11.522075</td>\n",
       "      <td>10.243350</td>\n",
       "      <td>10.887726</td>\n",
       "    </tr>\n",
       "    <tr>\n",
       "      <th>5</th>\n",
       "      <td>10.667349</td>\n",
       "      <td>12.988158</td>\n",
       "      <td>9.589683</td>\n",
       "    </tr>\n",
       "    <tr>\n",
       "      <th>6</th>\n",
       "      <td>10.626135</td>\n",
       "      <td>8.291809</td>\n",
       "      <td>4.894020</td>\n",
       "    </tr>\n",
       "    <tr>\n",
       "      <th>7</th>\n",
       "      <td>11.307237</td>\n",
       "      <td>11.728872</td>\n",
       "      <td>8.515670</td>\n",
       "    </tr>\n",
       "    <tr>\n",
       "      <th>8</th>\n",
       "      <td>14.539509</td>\n",
       "      <td>7.091269</td>\n",
       "      <td>10.091517</td>\n",
       "    </tr>\n",
       "    <tr>\n",
       "      <th>9</th>\n",
       "      <td>9.625632</td>\n",
       "      <td>13.065558</td>\n",
       "      <td>12.938718</td>\n",
       "    </tr>\n",
       "  </tbody>\n",
       "</table>\n",
       "</div>"
      ],
      "text/plain": [
       "            a          b           c\n",
       "0  100.000000  10.800314  200.000000\n",
       "1   14.481786  13.735116    8.045444\n",
       "2   11.900177   9.697286    9.793562\n",
       "3  300.000000  10.288087 -100.000000\n",
       "4   11.522075  10.243350   10.887726\n",
       "5   10.667349  12.988158    9.589683\n",
       "6   10.626135   8.291809    4.894020\n",
       "7   11.307237  11.728872    8.515670\n",
       "8   14.539509   7.091269   10.091517\n",
       "9    9.625632  13.065558   12.938718"
      ]
     },
     "execution_count": 2,
     "metadata": {},
     "output_type": "execute_result"
    }
   ],
   "source": [
    "import pandas as pd\n",
    "import numpy as np\n",
    "\n",
    "np.random.seed(0)\n",
    "\n",
    "# 평균 10 표준편차 2\n",
    "df = pd.DataFrame(np.random.normal(10, 2, size=(10, 3)), columns=['a', 'b', 'c'])\n",
    "df.iloc[[0, 3], [0, 2]] = [[100, 200], [300, -100]]\n",
    "df"
   ]
  },
  {
   "cell_type": "code",
   "execution_count": 3,
   "id": "2818f0a5-b572-4db0-b0a7-4f4b3964fc6a",
   "metadata": {},
   "outputs": [
    {
     "data": {
      "image/png": "[encoded data removed]",
      "text/plain": [
       "<Figure size 640x480 with 1 Axes>"
      ]
     },
     "metadata": {},
     "output_type": "display_data"
    }
   ],
   "source": [
    "import matplotlib.pyplot as plt\n",
    "\n",
    "# Boxplot을 이용해 이상치 확인\n",
    "df.boxplot()\n",
    "plt.title('Boxplot')\n",
    "plt.show()"
   ]
  },
  {
   "cell_type": "markdown",
   "id": "492f6c37-414b-4545-b20b-3b773dd31e21",
   "metadata": {},
   "source": [
    "#### 2. 분위수 기준\n",
    "\n",
    "-   IQR(Inter quantile Range) 을 이용해 Outlier 여부를 찾는다.\n",
    "-   1분위, 3분위 에서 IQR \\* 1.5 보다 더 떨어진 값을 outlier로 판단한다. 단 정상 범위를 조정하려고 할때는 1.5값을 변경할 수 있다.\n",
    "\n",
    "\\begin{align}\n",
    "&IQR = 3분위 - 1분위 \\\\\n",
    "&정상범위\\,값:  (1분위 - 1.5\\times IQR) \\leq value \\leq  (3분위 + 1.5\\times IQR)\n",
    "\\end{align}"
   ]
  },
  {
   "cell_type": "code",
   "execution_count": 4,
   "id": "ebea2b64-df5e-4a1e-88e5-9dbf0136ff2d",
   "metadata": {},
   "outputs": [
    {
     "data": {
      "text/plain": [
       "0    100.0\n",
       "3    300.0\n",
       "Name: a, dtype: float64"
      ]
     },
     "execution_count": 4,
     "metadata": {},
     "output_type": "execute_result"
    }
   ],
   "source": [
    "####################################################################\n",
    "######## 4 분위수 기준으로 outlier를 찾기(식별)\n",
    "# \"1분위(100분위기준 25분위), 3분위(100분위 기준 75분위)\" 계산.\n",
    "# \"IQR(Inter Quartile Range) = 3분위수 - 1분위수\" 계산\n",
    "# \"정상범위: q1 - 1.5*iqr <= v <= q3 + 1.5*iqr\" 조건으로 outlier를 찾기\n",
    "####################################################################\n",
    "\n",
    "# \"a\" 컬럼에서 outlier를 찾기\n",
    "q1, q3 = df['a'].quantile(q=[0.25, 0.75]) # 1분위 3분위 찾음\n",
    "iqr = q3 - q1 # 정상범위 값\n",
    "whis = 1.5\n",
    "iqr = iqr * whis\n",
    "df['a'][~df['a'].between(q1 - iqr, q3 + iqr)]\n",
    "#   ---| (1Q)  | (2Q)  | (3Q)  |--- (4Q) |c   |\n",
    "#   (    정     상      값          )\n"
   ]
  },
  {
   "cell_type": "markdown",
   "id": "26a75891-2780-461a-81d0-a4258818d55e",
   "metadata": {},
   "source": [
    "###  Feature 타입 별 전처리\n",
    "- **범주형(Categorical) 변수**\n",
    "  : 범주를 구분하는 이름을 가지는 변수.\n",
    "        -  각 값 사이에 값이 없는 이산적 특징을 가진다.\n",
    "        - 값이 될 수있는 값들이 정해져 있다.\n",
    "    - 명목(Norminal) 변수/비서열(Unordered) 변수\n",
    "        - 범주에 속한 값간에 서열(순위)가 없는 변수\n",
    "        - 성별, 혈액형, 지역\n",
    "    - 순위(Ordinal) 변수/서열(Ordered) 변수\n",
    "        - 범주에 속한 값 간에 서열(순위)가 있는 변수\n",
    "        - 성적, 직급, 만족도\n"
   ]
  },
  {
   "cell_type": "markdown",
   "id": "fc38d15b-aafc-4a67-a360-3f5e141a739e",
   "metadata": {},
   "source": [
    "#### 범주형 데이터 전처리\n",
    "- Scikit-learn의 머신러닝 API들은 Feature나 Label의 값들이 숫자(정수/실수)인 것만 처리할 수 있다.\n",
    "- 문자형인 경우 숫자형으로 변환해야한다.\n",
    "\n",
    "**범주형 Feature의 처리**\n",
    "- Label Encoding\n",
    "- One-Hot Encoding\n",
    "\n",
    "### Label Encoding\n",
    "- 범주형 Feature의 고유값들 오름차순 정렬 후 0부터 1씩 증가하는 값으로  변환\n",
    "- **트리 계열 모델에 적용 (의사 결정 나무, 랜덤 포레스트)**\n",
    "- **선형 계열 모델에 적용하면 안됨 (로지스틱 회귀, SVM, 신경망)**\n",
    "\n",
    "**sklearn.preprocessing.LabelEncoder 사용**\n",
    "1. fit(): 어떻게 변환할 지 학습\n",
    "2. transform(): 문자열를 숫자로 변환\n",
    " - fit_transform(): 학습과 변환을 한번에 처리\n",
    "3. inverse_transform():숫자를 문자열로 변환\n",
    "4. classes_ : 인코딩한 클래스 조회"
   ]
  },
  {
   "cell_type": "code",
   "execution_count": 9,
   "id": "486571e9-6fe8-46b4-b6e5-68b3373d9e6d",
   "metadata": {},
   "outputs": [
    {
     "name": "stdout",
     "output_type": "stream",
     "text": [
      "[0 2 5 5 2 3 0 3]\n",
      "['TV' '공기 청정기' '냉장고' '에어콘' '정수기' '컴퓨터']\n",
      "[0 1 3 3 1 2 0 2]\n"
     ]
    },
    {
     "data": {
      "text/plain": [
       "array(['냉장고', '냉장고', '냉장고', '에어콘', '에어콘'], dtype=object)"
      ]
     },
     "execution_count": 9,
     "metadata": {},
     "output_type": "execute_result"
    }
   ],
   "source": [
    "import pandas as pd\n",
    "import numpy as np\n",
    "from sklearn.preprocessing import LabelEncoder\n",
    "\n",
    "# labelEncoder는 1차원 자료구조를 받아서 반환\n",
    "items = pd.Series(['TV', '냉장고', '컴퓨터', '컴퓨터', '냉장고', '에어콘',  'TV', '에어콘'])\n",
    "\n",
    "# instance 생성\n",
    "le = LabelEncoder()\n",
    "\n",
    "# 1. 학습\n",
    "le.fit(['TV', '냉장고', '컴퓨터', '에어콘', '공기 청정기', '정수기'])\n",
    "\n",
    "# 2. 변환\n",
    "result1 = le.transform(items)\n",
    "print(result1)\n",
    "\n",
    "# 어떻게 바꿨는지 조회\n",
    "print(le.classes_)\n",
    "\n",
    "# instance 생성\n",
    "le2 = LabelEncoder()\n",
    "\n",
    "result2 =  le2.fit_transform(items)  # fit과 transform 대상 같은 경우 한번에 변환\n",
    "print(result2)\n",
    "\n",
    "le2.inverse_transform([1, 1, 1, 2, 2])"
   ]
  },
  {
   "cell_type": "markdown",
   "id": "6cae1e99-a8ce-4d13-9a56-5f177e94c9a9",
   "metadata": {},
   "source": [
    "### adult data 에 label encoding 적용\n",
    "\n",
    "-   Adult 데이터셋은 1994년 인구조사 데이터 베이스에서 추출한 미국 성인의 소득 데이터셋.\n",
    "-   target 은 income 이며 수입이 $50,000 이하인지 초과인지 두개의 class를 가진다."
   ]
  },
  {
   "cell_type": "code",
   "execution_count": 38,
   "id": "50a4e5bc-8314-4a93-8810-13b503b3e4b1",
   "metadata": {},
   "outputs": [],
   "source": [
    "cols = ['age', 'workclass','fnlwgt','education', 'education-num', 'marital-status', 'occupation','relationship', 'race', 'gender','capital-gain','capital-loss', 'hours-per-week','native-country', 'income']"
   ]
  },
  {
   "cell_type": "code",
   "execution_count": 39,
   "id": "2d7dae26-56e2-4f20-b306-f6c7298ab707",
   "metadata": {},
   "outputs": [
    {
     "data": {
      "text/html": [
       "<div>\n",
       "<style scoped>\n",
       "    .dataframe tbody tr th:only-of-type {\n",
       "        vertical-align: middle;\n",
       "    }\n",
       "\n",
       "    .dataframe tbody tr th {\n",
       "        vertical-align: top;\n",
       "    }\n",
       "\n",
       "    .dataframe thead th {\n",
       "        text-align: right;\n",
       "    }\n",
       "</style>\n",
       "<table border=\"1\" class=\"dataframe\">\n",
       "  <thead>\n",
       "    <tr style=\"text-align: right;\">\n",
       "      <th></th>\n",
       "      <th>age</th>\n",
       "      <th>workclass</th>\n",
       "      <th>fnlwgt</th>\n",
       "      <th>education</th>\n",
       "      <th>education-num</th>\n",
       "      <th>marital-status</th>\n",
       "      <th>occupation</th>\n",
       "      <th>relationship</th>\n",
       "      <th>race</th>\n",
       "      <th>gender</th>\n",
       "      <th>capital-gain</th>\n",
       "      <th>capital-loss</th>\n",
       "      <th>hours-per-week</th>\n",
       "      <th>native-country</th>\n",
       "      <th>income</th>\n",
       "    </tr>\n",
       "  </thead>\n",
       "  <tbody>\n",
       "    <tr>\n",
       "      <th>0</th>\n",
       "      <td>39</td>\n",
       "      <td>State-gov</td>\n",
       "      <td>77516</td>\n",
       "      <td>Bachelors</td>\n",
       "      <td>13</td>\n",
       "      <td>Never-married</td>\n",
       "      <td>Adm-clerical</td>\n",
       "      <td>Not-in-family</td>\n",
       "      <td>White</td>\n",
       "      <td>Male</td>\n",
       "      <td>2174</td>\n",
       "      <td>0</td>\n",
       "      <td>40</td>\n",
       "      <td>United-States</td>\n",
       "      <td>&lt;=50K</td>\n",
       "    </tr>\n",
       "    <tr>\n",
       "      <th>1</th>\n",
       "      <td>50</td>\n",
       "      <td>Self-emp-not-inc</td>\n",
       "      <td>83311</td>\n",
       "      <td>Bachelors</td>\n",
       "      <td>13</td>\n",
       "      <td>Married-civ-spouse</td>\n",
       "      <td>Exec-managerial</td>\n",
       "      <td>Husband</td>\n",
       "      <td>White</td>\n",
       "      <td>Male</td>\n",
       "      <td>0</td>\n",
       "      <td>0</td>\n",
       "      <td>13</td>\n",
       "      <td>United-States</td>\n",
       "      <td>&lt;=50K</td>\n",
       "    </tr>\n",
       "    <tr>\n",
       "      <th>2</th>\n",
       "      <td>38</td>\n",
       "      <td>Private</td>\n",
       "      <td>215646</td>\n",
       "      <td>HS-grad</td>\n",
       "      <td>9</td>\n",
       "      <td>Divorced</td>\n",
       "      <td>Handlers-cleaners</td>\n",
       "      <td>Not-in-family</td>\n",
       "      <td>White</td>\n",
       "      <td>Male</td>\n",
       "      <td>0</td>\n",
       "      <td>0</td>\n",
       "      <td>40</td>\n",
       "      <td>United-States</td>\n",
       "      <td>&lt;=50K</td>\n",
       "    </tr>\n",
       "    <tr>\n",
       "      <th>3</th>\n",
       "      <td>53</td>\n",
       "      <td>Private</td>\n",
       "      <td>234721</td>\n",
       "      <td>11th</td>\n",
       "      <td>7</td>\n",
       "      <td>Married-civ-spouse</td>\n",
       "      <td>Handlers-cleaners</td>\n",
       "      <td>Husband</td>\n",
       "      <td>Black</td>\n",
       "      <td>Male</td>\n",
       "      <td>0</td>\n",
       "      <td>0</td>\n",
       "      <td>40</td>\n",
       "      <td>United-States</td>\n",
       "      <td>&lt;=50K</td>\n",
       "    </tr>\n",
       "    <tr>\n",
       "      <th>4</th>\n",
       "      <td>28</td>\n",
       "      <td>Private</td>\n",
       "      <td>338409</td>\n",
       "      <td>Bachelors</td>\n",
       "      <td>13</td>\n",
       "      <td>Married-civ-spouse</td>\n",
       "      <td>Prof-specialty</td>\n",
       "      <td>Wife</td>\n",
       "      <td>Black</td>\n",
       "      <td>Female</td>\n",
       "      <td>0</td>\n",
       "      <td>0</td>\n",
       "      <td>40</td>\n",
       "      <td>Cuba</td>\n",
       "      <td>&lt;=50K</td>\n",
       "    </tr>\n",
       "    <tr>\n",
       "      <th>...</th>\n",
       "      <td>...</td>\n",
       "      <td>...</td>\n",
       "      <td>...</td>\n",
       "      <td>...</td>\n",
       "      <td>...</td>\n",
       "      <td>...</td>\n",
       "      <td>...</td>\n",
       "      <td>...</td>\n",
       "      <td>...</td>\n",
       "      <td>...</td>\n",
       "      <td>...</td>\n",
       "      <td>...</td>\n",
       "      <td>...</td>\n",
       "      <td>...</td>\n",
       "      <td>...</td>\n",
       "    </tr>\n",
       "    <tr>\n",
       "      <th>32556</th>\n",
       "      <td>27</td>\n",
       "      <td>Private</td>\n",
       "      <td>257302</td>\n",
       "      <td>Assoc-acdm</td>\n",
       "      <td>12</td>\n",
       "      <td>Married-civ-spouse</td>\n",
       "      <td>Tech-support</td>\n",
       "      <td>Wife</td>\n",
       "      <td>White</td>\n",
       "      <td>Female</td>\n",
       "      <td>0</td>\n",
       "      <td>0</td>\n",
       "      <td>38</td>\n",
       "      <td>United-States</td>\n",
       "      <td>&lt;=50K</td>\n",
       "    </tr>\n",
       "    <tr>\n",
       "      <th>32557</th>\n",
       "      <td>40</td>\n",
       "      <td>Private</td>\n",
       "      <td>154374</td>\n",
       "      <td>HS-grad</td>\n",
       "      <td>9</td>\n",
       "      <td>Married-civ-spouse</td>\n",
       "      <td>Machine-op-inspct</td>\n",
       "      <td>Husband</td>\n",
       "      <td>White</td>\n",
       "      <td>Male</td>\n",
       "      <td>0</td>\n",
       "      <td>0</td>\n",
       "      <td>40</td>\n",
       "      <td>United-States</td>\n",
       "      <td>&gt;50K</td>\n",
       "    </tr>\n",
       "    <tr>\n",
       "      <th>32558</th>\n",
       "      <td>58</td>\n",
       "      <td>Private</td>\n",
       "      <td>151910</td>\n",
       "      <td>HS-grad</td>\n",
       "      <td>9</td>\n",
       "      <td>Widowed</td>\n",
       "      <td>Adm-clerical</td>\n",
       "      <td>Unmarried</td>\n",
       "      <td>White</td>\n",
       "      <td>Female</td>\n",
       "      <td>0</td>\n",
       "      <td>0</td>\n",
       "      <td>40</td>\n",
       "      <td>United-States</td>\n",
       "      <td>&lt;=50K</td>\n",
       "    </tr>\n",
       "    <tr>\n",
       "      <th>32559</th>\n",
       "      <td>22</td>\n",
       "      <td>Private</td>\n",
       "      <td>201490</td>\n",
       "      <td>HS-grad</td>\n",
       "      <td>9</td>\n",
       "      <td>Never-married</td>\n",
       "      <td>Adm-clerical</td>\n",
       "      <td>Own-child</td>\n",
       "      <td>White</td>\n",
       "      <td>Male</td>\n",
       "      <td>0</td>\n",
       "      <td>0</td>\n",
       "      <td>20</td>\n",
       "      <td>United-States</td>\n",
       "      <td>&lt;=50K</td>\n",
       "    </tr>\n",
       "    <tr>\n",
       "      <th>32560</th>\n",
       "      <td>52</td>\n",
       "      <td>Self-emp-inc</td>\n",
       "      <td>287927</td>\n",
       "      <td>HS-grad</td>\n",
       "      <td>9</td>\n",
       "      <td>Married-civ-spouse</td>\n",
       "      <td>Exec-managerial</td>\n",
       "      <td>Wife</td>\n",
       "      <td>White</td>\n",
       "      <td>Female</td>\n",
       "      <td>15024</td>\n",
       "      <td>0</td>\n",
       "      <td>40</td>\n",
       "      <td>United-States</td>\n",
       "      <td>&gt;50K</td>\n",
       "    </tr>\n",
       "  </tbody>\n",
       "</table>\n",
       "<p>32561 rows × 15 columns</p>\n",
       "</div>"
      ],
      "text/plain": [
       "       age         workclass  fnlwgt   education  education-num  \\\n",
       "0       39         State-gov   77516   Bachelors             13   \n",
       "1       50  Self-emp-not-inc   83311   Bachelors             13   \n",
       "2       38           Private  215646     HS-grad              9   \n",
       "3       53           Private  234721        11th              7   \n",
       "4       28           Private  338409   Bachelors             13   \n",
       "...    ...               ...     ...         ...            ...   \n",
       "32556   27           Private  257302  Assoc-acdm             12   \n",
       "32557   40           Private  154374     HS-grad              9   \n",
       "32558   58           Private  151910     HS-grad              9   \n",
       "32559   22           Private  201490     HS-grad              9   \n",
       "32560   52      Self-emp-inc  287927     HS-grad              9   \n",
       "\n",
       "           marital-status         occupation   relationship   race  gender  \\\n",
       "0           Never-married       Adm-clerical  Not-in-family  White    Male   \n",
       "1      Married-civ-spouse    Exec-managerial        Husband  White    Male   \n",
       "2                Divorced  Handlers-cleaners  Not-in-family  White    Male   \n",
       "3      Married-civ-spouse  Handlers-cleaners        Husband  Black    Male   \n",
       "4      Married-civ-spouse     Prof-specialty           Wife  Black  Female   \n",
       "...                   ...                ...            ...    ...     ...   \n",
       "32556  Married-civ-spouse       Tech-support           Wife  White  Female   \n",
       "32557  Married-civ-spouse  Machine-op-inspct        Husband  White    Male   \n",
       "32558             Widowed       Adm-clerical      Unmarried  White  Female   \n",
       "32559       Never-married       Adm-clerical      Own-child  White    Male   \n",
       "32560  Married-civ-spouse    Exec-managerial           Wife  White  Female   \n",
       "\n",
       "       capital-gain  capital-loss  hours-per-week native-country income  \n",
       "0              2174             0              40  United-States  <=50K  \n",
       "1                 0             0              13  United-States  <=50K  \n",
       "2                 0             0              40  United-States  <=50K  \n",
       "3                 0             0              40  United-States  <=50K  \n",
       "4                 0             0              40           Cuba  <=50K  \n",
       "...             ...           ...             ...            ...    ...  \n",
       "32556             0             0              38  United-States  <=50K  \n",
       "32557             0             0              40  United-States   >50K  \n",
       "32558             0             0              40  United-States  <=50K  \n",
       "32559             0             0              20  United-States  <=50K  \n",
       "32560         15024             0              40  United-States   >50K  \n",
       "\n",
       "[32561 rows x 15 columns]"
      ]
     },
     "execution_count": 39,
     "metadata": {},
     "output_type": "execute_result"
    }
   ],
   "source": [
    "import pandas as pd\n",
    "\n",
    "data = pd.read_csv(\n",
    "    'data/adult.data', \n",
    "    header=None,\n",
    "    names=cols,  # header 컬럼명\n",
    "    na_values='?',  # 결측치로 읽을 값 설정 '?' => Na\n",
    "    skipinitialspace=True # 값 앞의 공백 제거\n",
    ")\n",
    "data2 = data.copy()\n",
    "data2"
   ]
  },
  {
   "cell_type": "code",
   "execution_count": 40,
   "id": "36e88edd-0fa7-4e2c-8c4d-cf7f3c0db7d1",
   "metadata": {},
   "outputs": [
    {
     "data": {
      "text/plain": [
       "age                  0\n",
       "workclass         1836\n",
       "fnlwgt               0\n",
       "education            0\n",
       "education-num        0\n",
       "marital-status       0\n",
       "occupation        1843\n",
       "relationship         0\n",
       "race                 0\n",
       "gender               0\n",
       "capital-gain         0\n",
       "capital-loss         0\n",
       "hours-per-week       0\n",
       "native-country     583\n",
       "income               0\n",
       "dtype: int64"
      ]
     },
     "execution_count": 40,
     "metadata": {},
     "output_type": "execute_result"
    }
   ],
   "source": [
    "data.isnull().sum()  # 전체 결측치 확인"
   ]
  },
  {
   "cell_type": "code",
   "execution_count": 41,
   "id": "619d5c99-b0e1-4da7-bcf5-c0c70803d935",
   "metadata": {},
   "outputs": [
    {
     "data": {
      "text/plain": [
       "age               0\n",
       "workclass         0\n",
       "fnlwgt            0\n",
       "education         0\n",
       "education-num     0\n",
       "marital-status    0\n",
       "occupation        0\n",
       "relationship      0\n",
       "race              0\n",
       "gender            0\n",
       "capital-gain      0\n",
       "capital-loss      0\n",
       "hours-per-week    0\n",
       "native-country    0\n",
       "income            0\n",
       "dtype: int64"
      ]
     },
     "execution_count": 41,
     "metadata": {},
     "output_type": "execute_result"
    }
   ],
   "source": [
    "# 결측치 대체 - 최빈값\n",
    "from sklearn.impute import SimpleImputer\n",
    "imputer = SimpleImputer(strategy=\"most_frequent\")\n",
    "data[['workclass', 'occupation', 'native-country']] = imputer.fit_transform(data[['workclass', 'occupation', 'native-country']])\n",
    "\n",
    "data.isnull().sum()"
   ]
  },
  {
   "cell_type": "code",
   "execution_count": 42,
   "id": "035034b3-1762-41fe-885a-9e199f9afd1d",
   "metadata": {},
   "outputs": [
    {
     "data": {
      "text/plain": [
       "array(['Federal-gov', 'Local-gov', 'Never-worked', 'Private',\n",
       "       'Self-emp-inc', 'Self-emp-not-inc', 'State-gov', 'Without-pay'],\n",
       "      dtype=object)"
      ]
     },
     "execution_count": 42,
     "metadata": {},
     "output_type": "execute_result"
    }
   ],
   "source": [
    "# 범주형\n",
    "category_columns = ['workclass','education','marital-status', 'occupation','relationship','race','gender','native-country', 'income']\n",
    "# 수치형\n",
    "number_columns = ['age','fnlwgt', 'education-num','capital-gain','capital-loss','hours-per-week']\n",
    "\n",
    "from sklearn.preprocessing import LabelEncoder\n",
    "\n",
    "le_dict = {}\n",
    "\n",
    "for col in category_columns :\n",
    "    le = LabelEncoder()\n",
    "    data[col] = le.fit_transform(data[col])\n",
    "    le_dict[col] = le\n",
    "\n",
    "le_dict['workclass'].classes_"
   ]
  },
  {
   "cell_type": "code",
   "execution_count": 46,
   "id": "bba60f68-07bf-4d68-8640-2a224c46daf9",
   "metadata": {},
   "outputs": [
    {
     "name": "stdout",
     "output_type": "stream",
     "text": [
      "0.8551204530185238 0.8472168905950096\n"
     ]
    }
   ],
   "source": [
    "# x, y 분리\n",
    "y = data['income']\n",
    "X = data.drop(columns='income')\n",
    "\n",
    "from sklearn.model_selection import train_test_split\n",
    "from sklearn.tree import DecisionTreeClassifier\n",
    "from sklearn.metrics import accuracy_score\n",
    "\n",
    "X_train, X_test, y_train, y_test = train_test_split(X, y, test_size=0.2, stratify=y, random_state=0)\n",
    "X_train, X_valid, y_train, y_valid = train_test_split(X_train, y_train, test_size=0.2, stratify=y_train, random_state=0)\n",
    "\n",
    "model = DecisionTreeClassifier(max_depth=5, random_state=0)\n",
    "\n",
    "model.fit(X_train, y_train)\n",
    "\n",
    "pred_train = model.predict(X_train)\n",
    "pred_valid = model.predict(X_valid)\n",
    "acc_train = accuracy_score(y_train, pred_train)\n",
    "acc_valid = accuracy_score(y_valid, pred_valid)\n",
    "\n",
    "print(acc_train, acc_valid)"
   ]
  },
  {
   "cell_type": "markdown",
   "id": "ea15a280-9d44-428c-a57c-7e1425cccbb4",
   "metadata": {},
   "source": [
    "### One-Hot Encoding\n",
    ":N개의 클래스를 N 차원의 One-Hot 벡터로 표현되도록 변환\n",
    "\n",
    "- 고유값들을 피처(컬럼)로 만들고 정답에 해당하는 열은 1로 나머진 0으로 표시한다.\n",
    "  \n",
    "- **숫자의 크기 차이가 모델에 영향을 미치는 선형 계열 모델(로지스틱회귀, SVM, 신경망)에서 범주형 데이터 변환시 Label Encoding보다 One Hot Encoding을 사용한다.**\n",
    "  \n",
    "- **DecisionTree 계열의 알고리즘은 Feature에 0이 많은 경우(Sparse Matrix라고 한다.) 성능이 떨어지기 때문에 Label Encoding을 한다.**"
   ]
  },
  {
   "cell_type": "markdown",
   "id": "d8ecd272-c81c-41c6-880f-9ab6eafabd54",
   "metadata": {},
   "source": [
    "#### One-Hot Encoding 변환 처리\n",
    "\n",
    "-   **sklearn.preprocessing.OneHotEncoder**\n",
    "    -   fit(데이터셋): 데이터셋을 기준으로 어떻게 변환할 지 학습\n",
    "    -   transform(데이터셋): Argument로 받은 데이터셋을 원핫인코딩 처리\n",
    "    -   fit_transform(데이터셋): 학습과 변환을 한번에 처리\n",
    "    -   get_feature_names_out() : 원핫인코딩으로 변환된 Feature(컬럼)들의 이름을 반환\n",
    "    -   **데이터셋은 2차원 배열을 전달 하며 Feature별로 원핫인코딩 처리한다.**\n",
    "        -   DataFrame도 가능\n",
    "        -   원핫인코딩 처리시 모든 타입의 값들을 다 변환한다. (연속형 값들도 변환) 그래서 변환려는 변수들만 모아서 처리해야 한다.\n"
   ]
  },
  {
   "cell_type": "code",
   "execution_count": 22,
   "id": "19d7a875-3e14-4207-bfbd-32a033fa3859",
   "metadata": {},
   "outputs": [
    {
     "name": "stdout",
     "output_type": "stream",
     "text": [
      "['x0_TV' 'x0_냉장고' 'x0_믹서' 'x0_선풍기' 'x0_전자레인지' 'x0_컴퓨터']\n"
     ]
    }
   ],
   "source": [
    "import numpy as np\n",
    "from sklearn.preprocessing import OneHotEncoder\n",
    "\n",
    "items = np.array([['TV'], ['냉장고'], ['전자레인지'], ['컴퓨터'], ['선풍기'], ['선풍기'], ['믹서'], ['믹서']])\n",
    "\n",
    "ohe = OneHotEncoder() # 모델 객체 생성\n",
    "ohe.fit(items) # 모델 학습\n",
    "result = ohe.transform(items) # 모델 변환\n",
    "\n",
    "print(ohe.get_feature_names_out()) # OHE된 컬럼이 어떤 class 고유 값을 나타내는지 조회"
   ]
  },
  {
   "cell_type": "markdown",
   "id": "b12280c7-87db-4638-9154-d6a69876a89a",
   "metadata": {},
   "source": [
    "#### adult dataset - OHE 적용\n",
    "\n",
    "-   **전체 Feature 중 'age', 'workclass','education', 'occupation', 'gender', 'hours-per-week', 'income' 만 사용.**\n",
    "-   범주형 Feature중 **income은 출력 데이터이므로 Label Encoding 처리**를 한 뒤 y로 뺀다.\n",
    "-   나머지 범주형Feature들은 One-hot encoding 처리한다.\n",
    "    -   'workclass','education', 'occupation', 'gender'\n",
    "- income : '<=50K' '>50K' 형태임"
   ]
  },
  {
   "cell_type": "code",
   "execution_count": 21,
   "id": "d0b9dea2-9865-4c4a-bfac-f9014ac982d6",
   "metadata": {},
   "outputs": [
    {
     "data": {
      "text/plain": [
       "array([[0.0000e+00, 0.0000e+00, 0.0000e+00, ..., 2.1740e+03, 0.0000e+00,\n",
       "        4.0000e+01],\n",
       "       [0.0000e+00, 0.0000e+00, 0.0000e+00, ..., 0.0000e+00, 0.0000e+00,\n",
       "        1.3000e+01],\n",
       "       [0.0000e+00, 0.0000e+00, 0.0000e+00, ..., 0.0000e+00, 0.0000e+00,\n",
       "        4.0000e+01],\n",
       "       ...,\n",
       "       [0.0000e+00, 0.0000e+00, 0.0000e+00, ..., 0.0000e+00, 0.0000e+00,\n",
       "        4.0000e+01],\n",
       "       [0.0000e+00, 0.0000e+00, 0.0000e+00, ..., 0.0000e+00, 0.0000e+00,\n",
       "        2.0000e+01],\n",
       "       [0.0000e+00, 0.0000e+00, 0.0000e+00, ..., 1.5024e+04, 0.0000e+00,\n",
       "        4.0000e+01]])"
      ]
     },
     "execution_count": 21,
     "metadata": {},
     "output_type": "execute_result"
    }
   ],
   "source": [
    "import pandas as pd\n",
    "from sklearn.preprocessing import LabelEncoder, OneHotEncoder\n",
    "\n",
    "category_columns = ['workclass', 'education', 'occupation', 'gender', 'hours-per-week', 'income']\n",
    "number_columns =  ['age', 'fnlwgt', 'education-num', 'capital-gain', 'capital-loss',  'hours-per-week']\n",
    "\n",
    "df = pd.read_csv('data/adult_imputer.csv')\n",
    "df.head()\n",
    "\n",
    "le =  LabelEncoder()\n",
    "y = le.fit_transform(df['income'])\n",
    "X =  df.drop(columns='income')\n",
    "\n",
    "ohe = OneHotEncoder()\n",
    "cate  = ohe.fit_transform(df[category_columns])\n",
    "ohe.get_feature_names_out()\n",
    "\n",
    "X = np.concatenate([cate.toarray(), df[number_columns].values], axis=1)\n",
    "X"
   ]
  },
  {
   "cell_type": "code",
   "execution_count": 31,
   "id": "0d46442d-f821-49e7-8b7c-eac085a282af",
   "metadata": {},
   "outputs": [
    {
     "name": "stdout",
     "output_type": "stream",
     "text": [
      "1.0 1.0\n"
     ]
    }
   ],
   "source": [
    "from sklearn.model_selection import train_test_split\n",
    "from sklearn.tree import DecisionTreeClassifier\n",
    "from sklearn.metrics import accuracy_score\n",
    "\n",
    "X_train, X_test, y_train, y_test = train_test_split(X, y, test_size=0.2, stratify=y, random_state=0)\n",
    "X_train, X_valid, y_train, y_valid = train_test_split(X_train, y_train, test_size=0.2, stratify=y_train, random_state=0)\n",
    "\n",
    "\n",
    "model = DecisionTreeClassifier(max_depth=5, random_state=0)\n",
    "\n",
    "model.fit(X_train, y_train)\n",
    "\n",
    "pred_train = model.predict(X_train)\n",
    "pred_valid = model.predict(X_valid)\n",
    "acc_train = accuracy_score(y_train, pred_train)\n",
    "acc_valid = accuracy_score(y_valid, pred_valid)\n",
    "\n",
    "print(acc_train, acc_valid)\n"
   ]
  },
  {
   "cell_type": "markdown",
   "id": "37ec1c36-7f16-4e65-879c-2fd59729ef8d",
   "metadata": {},
   "source": [
    "### 수치형 데이터 전처리\n",
    "\n",
    "- **수치형(Numeric) 변수**\n",
    "    - 수량을 표현하는 값들을 가지는 변수.\n",
    "    - 이산형(Discrete) 변수\n",
    "        - 수치를 표현하지만 소수점의 형태로 표현되지 못하는 데이터. 정수형 값들을 가진다.\n",
    "        - 예) 하루 방문 고객수, 가격(원화), 물건의 개수\n",
    "    - 연속형(Continuous) 변수\n",
    "        - 수치를 표현하며 소수점으로 표현가능한 데이터. 실수형 값들을 가진다.\n",
    "        - 예) 키, 몸무게, 시간\n",
    "\n",
    "### Feature Scaling(정규화)\n",
    ": 각 feature들 간의 범위가 다를 경우 이 값의 범위를 일정한 범위로 맞추는 작업\n",
    "- 트리 계열을 제외한 대부분의 머신러닝 알고리즘이 feature들 간의 다른 척도에 영향을 받음\n",
    "    - 선형모델, SVM 모델, 신경망 모델\n",
    "- **Scaling은 trainset으로 fit 함.**"
   ]
  },
  {
   "cell_type": "markdown",
   "id": "b2299d45-b07f-4387-9ec0-4c109401d5fa",
   "metadata": {},
   "source": [
    "#### 표준화 (Standard Scaler)\n",
    "- feature의 값들이 평균이 0이고 표준편차가 1인 범위에 있도록 변환"
   ]
  },
  {
   "cell_type": "code",
   "execution_count": 32,
   "id": "896c0a93-d119-479a-8c31-3575c75de99f",
   "metadata": {},
   "outputs": [
    {
     "data": {
      "text/plain": [
       "array([[-0.33968311],\n",
       "       [-1.01904933],\n",
       "       [ 1.35873244]])"
      ]
     },
     "execution_count": 32,
     "metadata": {},
     "output_type": "execute_result"
    }
   ],
   "source": [
    "from sklearn.preprocessing import StandardScaler\n",
    "import numpy as np\n",
    "\n",
    "data = np.array([[10], [2], [30]])  # ndarray 생성.\n",
    "\n",
    "s_scaler = StandardScaler() # 객체 생성\n",
    "s_scaler.fit(data) #학습\n",
    "result = s_scaler.transform(data) # 변환\n",
    "result"
   ]
  },
  {
   "cell_type": "markdown",
   "id": "f7300078-3538-42b5-ba64-d499afc35370",
   "metadata": {},
   "source": [
    "#### MinMaxScaler\n",
    ": 데이터셋의 모든 값을 0(Min value)과 1(Max value) 사이의 값으로 변환한다"
   ]
  },
  {
   "cell_type": "code",
   "execution_count": 35,
   "id": "44519296-8b8e-441a-a844-5800c039a640",
   "metadata": {},
   "outputs": [
    {
     "name": "stdout",
     "output_type": "stream",
     "text": [
      "[[0.28571429]\n",
      " [0.        ]\n",
      " [1.        ]]\n"
     ]
    },
    {
     "data": {
      "text/plain": [
       "array([[10.],\n",
       "       [ 2.],\n",
       "       [30.]])"
      ]
     },
     "execution_count": 35,
     "metadata": {},
     "output_type": "execute_result"
    }
   ],
   "source": [
    "import numpy as np\n",
    "from sklearn.preprocessing import MinMaxScaler\n",
    "\n",
    "data = np.array([[10], [2], [30]])\n",
    "\n",
    "mm_scaler = MinMaxScaler() # 객체 생성\n",
    "mm_scaler.fit(data) # 학습\n",
    "result = mm_scaler.transform(data)\n",
    "print(result)\n",
    "\n",
    "mm_scaler.inverse_transform(result) # 원래 값으로 돌리기"
   ]
  },
  {
   "cell_type": "markdown",
   "id": "cb1304d8-314e-48a4-9ba0-f01873f00baf",
   "metadata": {},
   "source": [
    "#### 위스콘신 유방암 데이터셋으로 Scaling\n",
    "- feature : 종양 측정값들 (연속형)\n",
    "- target : 양성, 음성 여부"
   ]
  },
  {
   "cell_type": "code",
   "execution_count": 10,
   "id": "f8ccc064-ab40-48b3-981d-376f3b564823",
   "metadata": {},
   "outputs": [
    {
     "name": "stdout",
     "output_type": "stream",
     "text": [
      "===================NOT Scaling=======================\n",
      "0.6263736263736264\n",
      "0.6263736263736264\n",
      "0.631578947368421\n",
      "===================StandardScaling=======================\n",
      "0.9560439560439561\n",
      "0.9340659340659341\n",
      "0.9122807017543859\n",
      "===================MinMaxScaling=======================\n",
      "0.9175824175824175\n",
      "0.9010989010989011\n",
      "0.8859649122807017\n"
     ]
    }
   ],
   "source": [
    "from sklearn.datasets import load_breast_cancer\n",
    "from sklearn.model_selection import train_test_split\n",
    "from sklearn.preprocessing import StandardScaler, MinMaxScaler\n",
    "from sklearn.svm import SVC\n",
    "from sklearn.metrics import accuracy_score\n",
    "\n",
    "# data load\n",
    "data = load_breast_cancer()\n",
    "feature = data['data']  # X\n",
    "target = data['target']  # y\n",
    "\n",
    "# scaling model instance\n",
    "s_scaler = StandardScaler()\n",
    "mm_scaler = MinMaxScaler()\n",
    "\n",
    "# transform\n",
    "result = s_scaler.fit_transform(feature)\n",
    "result2 = mm_scaler.fit_transform(feature)\n",
    "\n",
    "## 모델링 ---------------------------------------------------------------------------------------------------------------\n",
    "X_train, X_test, y_train, y_test = train_test_split(feature, target, test_size = 0.2, stratify=target, random_state=0)\n",
    "X_train, X_valid, y_train, y_valid = train_test_split(X_train, y_train, test_size=0.2, stratify=y_train, random_state=0)\n",
    "\n",
    "# StandardScaler 사용 ---------------------------------------------------------------------------------------------------\n",
    "scaler = StandardScaler()\n",
    "X_train_scaled1 = scaler.fit_transform(X_train)\n",
    "X_valid_scaled1 = scaler.transform(X_valid)\n",
    "X_test_scaled1 = scaler.transform(X_test)\n",
    "\n",
    "# MinMaxScaler 사용 ---------------------------------------------------------------------------------------------------\n",
    "m_scaler = MinMaxScaler()\n",
    "X_train_scaled2 = m_scaler.fit_transform(X_train)\n",
    "X_valid_scaled2 = m_scaler.transform(X_valid)\n",
    "X_test_scaled2 = m_scaler.transform(X_test)\n",
    "\n",
    "# 평가 ---------------------------------------------------------------------------------------------------\n",
    "# scaling 안한 모델\n",
    "print(\"===================NOT Scaling=======================\")\n",
    "svc1 = SVC(C=0.1, gamma=0.1, random_state=0)\n",
    "svc1.fit(X_train, y_train)\n",
    "\n",
    "pred_train1 = svc1.predict(X_train)\n",
    "pred_valid1 = svc1.predict(X_valid)\n",
    "pred_test1 = svc1.predict(X_test)\n",
    "\n",
    "print(accuracy_score(y_train, pred_train1))\n",
    "print(accuracy_score(y_valid, pred_valid1))\n",
    "print(accuracy_score(y_test, pred_test1))\n",
    "\n",
    "# standard scaling 한 모델 --------------------------------------------------------------------------------\n",
    "svc2 = SVC(C=0.1, gamma=0.1, random_state=0)\n",
    "svc2.fit(X_train_scaled1, y_train)\n",
    "\n",
    "pred_train2 = svc2.predict(X_train_scaled1)\n",
    "pred_valid2 = svc2.predict(X_valid_scaled1)\n",
    "pred_test2 = svc2.predict(X_test_scaled1)\n",
    "\n",
    "print(\"===================StandardScaling=======================\")\n",
    "print(accuracy_score(y_train, pred_train2))\n",
    "print(accuracy_score(y_valid, pred_valid2))\n",
    "print(accuracy_score(y_test, pred_test2))\n",
    "\n",
    "# MinMax scaling 한 모델 --------------------------------------------------------------------------------\n",
    "svc3 = SVC(C=0.1, gamma=0.1, random_state=0)\n",
    "svc3.fit(X_train_scaled2, y_train)\n",
    "\n",
    "pred_train3 = svc3.predict(X_train_scaled2)\n",
    "pred_valid3 = svc3.predict(X_valid_scaled2)\n",
    "pred_test3 = svc3.predict(X_test_scaled2)\n",
    "\n",
    "print(\"===================MinMaxScaling=======================\")\n",
    "print(accuracy_score(y_train, pred_train3))\n",
    "print(accuracy_score(y_valid, pred_valid3))\n",
    "print(accuracy_score(y_test, pred_test3))\n"
   ]
  }
 ],
 "metadata": {
  "kernelspec": {
   "display_name": "Python 3 (ipykernel)",
   "language": "python",
   "name": "python3"
  },
  "language_info": {
   "codemirror_mode": {
    "name": "ipython",
    "version": 3
   },
   "file_extension": ".py",
   "mimetype": "text/x-python",
   "name": "python",
   "nbconvert_exporter": "python",
   "pygments_lexer": "ipython3",
   "version": "3.12.7"
  }
 },
 "nbformat": 4,
 "nbformat_minor": 5
}
